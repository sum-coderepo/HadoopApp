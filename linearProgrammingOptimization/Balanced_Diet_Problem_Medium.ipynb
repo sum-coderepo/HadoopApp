{
 "cells": [
  {
   "cell_type": "code",
   "execution_count": 38,
   "metadata": {},
   "outputs": [],
   "source": [
    "import pandas as pd\n",
    "from pulp import *"
   ]
  },
  {
   "cell_type": "markdown",
   "metadata": {},
   "source": [
    "### Read the given nutrition dataset into a Pandas DataFrame object\n",
    "Note we are reading only the first 64 rows with `nrows=64` argument because we just want to read all the nutrients informtion and not the maximum/minimum bounds in the dataset. We will enter those bounds in the optimization problem separately."
   ]
  },
  {
   "cell_type": "code",
   "execution_count": 39,
   "metadata": {},
   "outputs": [],
   "source": [
    "df = pd.read_excel(\"diet - medium.xls\",nrows=17)"
   ]
  },
  {
   "cell_type": "markdown",
   "metadata": {},
   "source": [
    "### Show the dataset"
   ]
  },
  {
   "cell_type": "code",
   "execution_count": 40,
   "metadata": {},
   "outputs": [
    {
     "data": {
      "text/html": [
       "<div>\n",
       "<style scoped>\n",
       "    .dataframe tbody tr th:only-of-type {\n",
       "        vertical-align: middle;\n",
       "    }\n",
       "\n",
       "    .dataframe tbody tr th {\n",
       "        vertical-align: top;\n",
       "    }\n",
       "\n",
       "    .dataframe thead th {\n",
       "        text-align: right;\n",
       "    }\n",
       "</style>\n",
       "<table border=\"1\" class=\"dataframe\">\n",
       "  <thead>\n",
       "    <tr style=\"text-align: right;\">\n",
       "      <th></th>\n",
       "      <th>Foods</th>\n",
       "      <th>Price/Serving</th>\n",
       "      <th>Serving Size</th>\n",
       "      <th>Calories</th>\n",
       "      <th>Cholesterol (mg)</th>\n",
       "      <th>Total_Fat (g)</th>\n",
       "      <th>Sodium (mg)</th>\n",
       "      <th>Carbohydrates (g)</th>\n",
       "      <th>Dietary_Fiber (g)</th>\n",
       "      <th>Protein (g)</th>\n",
       "      <th>Vit_A (IU)</th>\n",
       "      <th>Vit_C (IU)</th>\n",
       "      <th>Calcium (mg)</th>\n",
       "      <th>Iron (mg)</th>\n",
       "    </tr>\n",
       "  </thead>\n",
       "  <tbody>\n",
       "    <tr>\n",
       "      <th>0</th>\n",
       "      <td>Frozen Broccoli</td>\n",
       "      <td>0.48</td>\n",
       "      <td>10 Oz Pkg</td>\n",
       "      <td>73.8</td>\n",
       "      <td>0.0</td>\n",
       "      <td>0.8</td>\n",
       "      <td>68.2</td>\n",
       "      <td>13.6</td>\n",
       "      <td>8.5</td>\n",
       "      <td>8.0</td>\n",
       "      <td>5867.4</td>\n",
       "      <td>160.2</td>\n",
       "      <td>159.0</td>\n",
       "      <td>2.3</td>\n",
       "    </tr>\n",
       "    <tr>\n",
       "      <th>1</th>\n",
       "      <td>Frozen Corn</td>\n",
       "      <td>0.54</td>\n",
       "      <td>1/2 Cup</td>\n",
       "      <td>72.2</td>\n",
       "      <td>0.0</td>\n",
       "      <td>0.6</td>\n",
       "      <td>2.5</td>\n",
       "      <td>17.1</td>\n",
       "      <td>2.0</td>\n",
       "      <td>2.5</td>\n",
       "      <td>106.6</td>\n",
       "      <td>5.2</td>\n",
       "      <td>3.3</td>\n",
       "      <td>0.3</td>\n",
       "    </tr>\n",
       "    <tr>\n",
       "      <th>2</th>\n",
       "      <td>Raw Lettuce Iceberg</td>\n",
       "      <td>0.06</td>\n",
       "      <td>1 Leaf</td>\n",
       "      <td>2.6</td>\n",
       "      <td>0.0</td>\n",
       "      <td>0.0</td>\n",
       "      <td>1.8</td>\n",
       "      <td>0.4</td>\n",
       "      <td>0.3</td>\n",
       "      <td>0.2</td>\n",
       "      <td>66.0</td>\n",
       "      <td>0.8</td>\n",
       "      <td>3.8</td>\n",
       "      <td>0.1</td>\n",
       "    </tr>\n",
       "    <tr>\n",
       "      <th>3</th>\n",
       "      <td>Baked Potatoes</td>\n",
       "      <td>0.18</td>\n",
       "      <td>1/2 Cup</td>\n",
       "      <td>171.5</td>\n",
       "      <td>0.0</td>\n",
       "      <td>0.2</td>\n",
       "      <td>15.2</td>\n",
       "      <td>39.9</td>\n",
       "      <td>3.2</td>\n",
       "      <td>3.7</td>\n",
       "      <td>0.0</td>\n",
       "      <td>15.6</td>\n",
       "      <td>22.7</td>\n",
       "      <td>4.3</td>\n",
       "    </tr>\n",
       "    <tr>\n",
       "      <th>4</th>\n",
       "      <td>Tofu</td>\n",
       "      <td>0.93</td>\n",
       "      <td>1/4 block</td>\n",
       "      <td>88.2</td>\n",
       "      <td>0.0</td>\n",
       "      <td>5.5</td>\n",
       "      <td>8.1</td>\n",
       "      <td>2.2</td>\n",
       "      <td>1.4</td>\n",
       "      <td>9.4</td>\n",
       "      <td>98.6</td>\n",
       "      <td>0.1</td>\n",
       "      <td>121.8</td>\n",
       "      <td>6.2</td>\n",
       "    </tr>\n",
       "    <tr>\n",
       "      <th>5</th>\n",
       "      <td>Roasted Chicken</td>\n",
       "      <td>2.52</td>\n",
       "      <td>1 lb chicken</td>\n",
       "      <td>277.4</td>\n",
       "      <td>129.9</td>\n",
       "      <td>10.8</td>\n",
       "      <td>125.6</td>\n",
       "      <td>0.0</td>\n",
       "      <td>0.0</td>\n",
       "      <td>42.2</td>\n",
       "      <td>77.4</td>\n",
       "      <td>0.0</td>\n",
       "      <td>21.9</td>\n",
       "      <td>1.8</td>\n",
       "    </tr>\n",
       "    <tr>\n",
       "      <th>6</th>\n",
       "      <td>Spaghetti W/ Sauce</td>\n",
       "      <td>2.34</td>\n",
       "      <td>1 1/2 Cup</td>\n",
       "      <td>358.2</td>\n",
       "      <td>0.0</td>\n",
       "      <td>12.3</td>\n",
       "      <td>1237.1</td>\n",
       "      <td>58.3</td>\n",
       "      <td>11.6</td>\n",
       "      <td>8.2</td>\n",
       "      <td>3055.2</td>\n",
       "      <td>27.9</td>\n",
       "      <td>80.2</td>\n",
       "      <td>2.3</td>\n",
       "    </tr>\n",
       "    <tr>\n",
       "      <th>7</th>\n",
       "      <td>Raw Apple</td>\n",
       "      <td>0.72</td>\n",
       "      <td>1 Fruit,3/Lb,Wo/Rf</td>\n",
       "      <td>81.4</td>\n",
       "      <td>0.0</td>\n",
       "      <td>0.5</td>\n",
       "      <td>0.0</td>\n",
       "      <td>21.0</td>\n",
       "      <td>3.7</td>\n",
       "      <td>0.3</td>\n",
       "      <td>73.1</td>\n",
       "      <td>7.9</td>\n",
       "      <td>9.7</td>\n",
       "      <td>0.2</td>\n",
       "    </tr>\n",
       "    <tr>\n",
       "      <th>8</th>\n",
       "      <td>Banana</td>\n",
       "      <td>0.45</td>\n",
       "      <td>1 Fruit,Wo/Skn&amp;Seeds</td>\n",
       "      <td>104.9</td>\n",
       "      <td>0.0</td>\n",
       "      <td>0.5</td>\n",
       "      <td>1.1</td>\n",
       "      <td>26.7</td>\n",
       "      <td>2.7</td>\n",
       "      <td>1.2</td>\n",
       "      <td>92.3</td>\n",
       "      <td>10.4</td>\n",
       "      <td>6.8</td>\n",
       "      <td>0.4</td>\n",
       "    </tr>\n",
       "    <tr>\n",
       "      <th>9</th>\n",
       "      <td>Wheat Bread</td>\n",
       "      <td>0.15</td>\n",
       "      <td>1 Sl</td>\n",
       "      <td>65.0</td>\n",
       "      <td>0.0</td>\n",
       "      <td>1.0</td>\n",
       "      <td>134.5</td>\n",
       "      <td>12.4</td>\n",
       "      <td>1.3</td>\n",
       "      <td>2.2</td>\n",
       "      <td>0.0</td>\n",
       "      <td>0.0</td>\n",
       "      <td>10.8</td>\n",
       "      <td>0.7</td>\n",
       "    </tr>\n",
       "    <tr>\n",
       "      <th>10</th>\n",
       "      <td>White Bread</td>\n",
       "      <td>0.18</td>\n",
       "      <td>1 Sl</td>\n",
       "      <td>65.0</td>\n",
       "      <td>0.0</td>\n",
       "      <td>1.0</td>\n",
       "      <td>132.5</td>\n",
       "      <td>11.8</td>\n",
       "      <td>1.1</td>\n",
       "      <td>2.3</td>\n",
       "      <td>0.0</td>\n",
       "      <td>0.0</td>\n",
       "      <td>26.2</td>\n",
       "      <td>0.8</td>\n",
       "    </tr>\n",
       "    <tr>\n",
       "      <th>11</th>\n",
       "      <td>Oatmeal Cookies</td>\n",
       "      <td>0.27</td>\n",
       "      <td>1 Cookie</td>\n",
       "      <td>81.0</td>\n",
       "      <td>0.0</td>\n",
       "      <td>3.3</td>\n",
       "      <td>68.9</td>\n",
       "      <td>12.4</td>\n",
       "      <td>0.6</td>\n",
       "      <td>1.1</td>\n",
       "      <td>2.9</td>\n",
       "      <td>0.1</td>\n",
       "      <td>6.7</td>\n",
       "      <td>0.5</td>\n",
       "    </tr>\n",
       "    <tr>\n",
       "      <th>12</th>\n",
       "      <td>Apple Pie</td>\n",
       "      <td>0.48</td>\n",
       "      <td>1 Oz</td>\n",
       "      <td>67.2</td>\n",
       "      <td>0.0</td>\n",
       "      <td>3.1</td>\n",
       "      <td>75.4</td>\n",
       "      <td>9.6</td>\n",
       "      <td>0.5</td>\n",
       "      <td>0.5</td>\n",
       "      <td>35.2</td>\n",
       "      <td>0.9</td>\n",
       "      <td>3.1</td>\n",
       "      <td>0.1</td>\n",
       "    </tr>\n",
       "    <tr>\n",
       "      <th>13</th>\n",
       "      <td>Scrambled Eggs</td>\n",
       "      <td>0.33</td>\n",
       "      <td>1 Egg</td>\n",
       "      <td>99.6</td>\n",
       "      <td>211.2</td>\n",
       "      <td>7.3</td>\n",
       "      <td>168.0</td>\n",
       "      <td>1.3</td>\n",
       "      <td>0.0</td>\n",
       "      <td>6.7</td>\n",
       "      <td>409.2</td>\n",
       "      <td>0.1</td>\n",
       "      <td>42.6</td>\n",
       "      <td>0.7</td>\n",
       "    </tr>\n",
       "    <tr>\n",
       "      <th>14</th>\n",
       "      <td>Turkey Bologna</td>\n",
       "      <td>0.45</td>\n",
       "      <td>1 Oz</td>\n",
       "      <td>56.4</td>\n",
       "      <td>28.1</td>\n",
       "      <td>4.3</td>\n",
       "      <td>248.9</td>\n",
       "      <td>0.3</td>\n",
       "      <td>0.0</td>\n",
       "      <td>3.9</td>\n",
       "      <td>0.0</td>\n",
       "      <td>0.0</td>\n",
       "      <td>23.8</td>\n",
       "      <td>0.4</td>\n",
       "    </tr>\n",
       "    <tr>\n",
       "      <th>15</th>\n",
       "      <td>Beef Frankfurter</td>\n",
       "      <td>0.81</td>\n",
       "      <td>1 Frankfurter</td>\n",
       "      <td>141.8</td>\n",
       "      <td>27.4</td>\n",
       "      <td>12.8</td>\n",
       "      <td>461.7</td>\n",
       "      <td>0.8</td>\n",
       "      <td>0.0</td>\n",
       "      <td>5.4</td>\n",
       "      <td>0.0</td>\n",
       "      <td>10.8</td>\n",
       "      <td>9.0</td>\n",
       "      <td>0.6</td>\n",
       "    </tr>\n",
       "    <tr>\n",
       "      <th>16</th>\n",
       "      <td>Chocolate Chip Cookies</td>\n",
       "      <td>0.09</td>\n",
       "      <td>1 Cookie</td>\n",
       "      <td>78.1</td>\n",
       "      <td>5.1</td>\n",
       "      <td>4.5</td>\n",
       "      <td>57.8</td>\n",
       "      <td>9.3</td>\n",
       "      <td>0.0</td>\n",
       "      <td>0.9</td>\n",
       "      <td>101.8</td>\n",
       "      <td>0.0</td>\n",
       "      <td>6.2</td>\n",
       "      <td>0.4</td>\n",
       "    </tr>\n",
       "  </tbody>\n",
       "</table>\n",
       "</div>"
      ],
      "text/plain": [
       "                     Foods  Price/Serving          Serving Size  Calories  \\\n",
       "0          Frozen Broccoli           0.48             10 Oz Pkg      73.8   \n",
       "1              Frozen Corn           0.54               1/2 Cup      72.2   \n",
       "2      Raw Lettuce Iceberg           0.06                1 Leaf       2.6   \n",
       "3           Baked Potatoes           0.18               1/2 Cup     171.5   \n",
       "4                     Tofu           0.93             1/4 block      88.2   \n",
       "5          Roasted Chicken           2.52          1 lb chicken     277.4   \n",
       "6       Spaghetti W/ Sauce           2.34             1 1/2 Cup     358.2   \n",
       "7                Raw Apple           0.72    1 Fruit,3/Lb,Wo/Rf      81.4   \n",
       "8                   Banana           0.45  1 Fruit,Wo/Skn&Seeds     104.9   \n",
       "9              Wheat Bread           0.15                  1 Sl      65.0   \n",
       "10             White Bread           0.18                  1 Sl      65.0   \n",
       "11         Oatmeal Cookies           0.27              1 Cookie      81.0   \n",
       "12               Apple Pie           0.48                  1 Oz      67.2   \n",
       "13          Scrambled Eggs           0.33                 1 Egg      99.6   \n",
       "14          Turkey Bologna           0.45                  1 Oz      56.4   \n",
       "15        Beef Frankfurter           0.81         1 Frankfurter     141.8   \n",
       "16  Chocolate Chip Cookies           0.09              1 Cookie      78.1   \n",
       "\n",
       "    Cholesterol (mg)  Total_Fat (g)  Sodium (mg)  Carbohydrates (g)  \\\n",
       "0                0.0            0.8         68.2               13.6   \n",
       "1                0.0            0.6          2.5               17.1   \n",
       "2                0.0            0.0          1.8                0.4   \n",
       "3                0.0            0.2         15.2               39.9   \n",
       "4                0.0            5.5          8.1                2.2   \n",
       "5              129.9           10.8        125.6                0.0   \n",
       "6                0.0           12.3       1237.1               58.3   \n",
       "7                0.0            0.5          0.0               21.0   \n",
       "8                0.0            0.5          1.1               26.7   \n",
       "9                0.0            1.0        134.5               12.4   \n",
       "10               0.0            1.0        132.5               11.8   \n",
       "11               0.0            3.3         68.9               12.4   \n",
       "12               0.0            3.1         75.4                9.6   \n",
       "13             211.2            7.3        168.0                1.3   \n",
       "14              28.1            4.3        248.9                0.3   \n",
       "15              27.4           12.8        461.7                0.8   \n",
       "16               5.1            4.5         57.8                9.3   \n",
       "\n",
       "    Dietary_Fiber (g)  Protein (g)  Vit_A (IU)  Vit_C (IU)  Calcium (mg)  \\\n",
       "0                 8.5          8.0      5867.4       160.2         159.0   \n",
       "1                 2.0          2.5       106.6         5.2           3.3   \n",
       "2                 0.3          0.2        66.0         0.8           3.8   \n",
       "3                 3.2          3.7         0.0        15.6          22.7   \n",
       "4                 1.4          9.4        98.6         0.1         121.8   \n",
       "5                 0.0         42.2        77.4         0.0          21.9   \n",
       "6                11.6          8.2      3055.2        27.9          80.2   \n",
       "7                 3.7          0.3        73.1         7.9           9.7   \n",
       "8                 2.7          1.2        92.3        10.4           6.8   \n",
       "9                 1.3          2.2         0.0         0.0          10.8   \n",
       "10                1.1          2.3         0.0         0.0          26.2   \n",
       "11                0.6          1.1         2.9         0.1           6.7   \n",
       "12                0.5          0.5        35.2         0.9           3.1   \n",
       "13                0.0          6.7       409.2         0.1          42.6   \n",
       "14                0.0          3.9         0.0         0.0          23.8   \n",
       "15                0.0          5.4         0.0        10.8           9.0   \n",
       "16                0.0          0.9       101.8         0.0           6.2   \n",
       "\n",
       "    Iron (mg)  \n",
       "0         2.3  \n",
       "1         0.3  \n",
       "2         0.1  \n",
       "3         4.3  \n",
       "4         6.2  \n",
       "5         1.8  \n",
       "6         2.3  \n",
       "7         0.2  \n",
       "8         0.4  \n",
       "9         0.7  \n",
       "10        0.8  \n",
       "11        0.5  \n",
       "12        0.1  \n",
       "13        0.7  \n",
       "14        0.4  \n",
       "15        0.6  \n",
       "16        0.4  "
      ]
     },
     "execution_count": 40,
     "metadata": {},
     "output_type": "execute_result"
    }
   ],
   "source": [
    "df"
   ]
  },
  {
   "cell_type": "markdown",
   "metadata": {},
   "source": [
    "### Create the `PuLP` problem variable. Since it is a cost minimization problem, we need to use `LpMinimize`"
   ]
  },
  {
   "cell_type": "code",
   "execution_count": 166,
   "metadata": {},
   "outputs": [],
   "source": [
    "# Create the 'prob' variable to contain the problem data\n",
    "prob = LpProblem(\"Simple Diet Problem\",LpMinimize)"
   ]
  },
  {
   "cell_type": "markdown",
   "metadata": {},
   "source": [
    "### Create a list of food items from the dataset"
   ]
  },
  {
   "cell_type": "code",
   "execution_count": 167,
   "metadata": {},
   "outputs": [],
   "source": [
    "# Creates a list of the Ingredients\n",
    "food_items = list(df['Foods'])"
   ]
  },
  {
   "cell_type": "code",
   "execution_count": 168,
   "metadata": {},
   "outputs": [
    {
     "name": "stdout",
     "output_type": "stream",
     "text": [
      "So, the food items to consdier, are\n",
      "----------------------------------------------------------------------------------------------------\n",
      "Frozen Broccoli, Frozen Corn, Raw Lettuce Iceberg,  Baked Potatoes, Tofu, Roasted Chicken, Spaghetti W/ Sauce, Raw Apple, Banana, Wheat Bread, White Bread, Oatmeal Cookies, Apple Pie, Scrambled Eggs, Turkey Bologna, Beef Frankfurter, Chocolate Chip Cookies, "
     ]
    }
   ],
   "source": [
    "print(\"So, the food items to consdier, are\\n\"+\"-\"*100)\n",
    "for f in food_items:\n",
    "    print(f,end=', ')"
   ]
  },
  {
   "cell_type": "markdown",
   "metadata": {},
   "source": [
    "### Create a dictinary of costs for all food items"
   ]
  },
  {
   "cell_type": "code",
   "execution_count": 169,
   "metadata": {},
   "outputs": [],
   "source": [
    "costs = dict(zip(food_items,df['Price/Serving']))"
   ]
  },
  {
   "cell_type": "code",
   "execution_count": 170,
   "metadata": {},
   "outputs": [
    {
     "data": {
      "text/plain": [
       "{' Baked Potatoes': 0.18,\n",
       " 'Apple Pie': 0.48,\n",
       " 'Banana': 0.44999999999999996,\n",
       " 'Beef Frankfurter': 0.81,\n",
       " 'Chocolate Chip Cookies': 0.09,\n",
       " 'Frozen Broccoli': 0.48,\n",
       " 'Frozen Corn': 0.54,\n",
       " 'Oatmeal Cookies': 0.27,\n",
       " 'Raw Apple': 0.72,\n",
       " 'Raw Lettuce Iceberg': 0.06,\n",
       " 'Roasted Chicken': 2.52,\n",
       " 'Scrambled Eggs': 0.33,\n",
       " 'Spaghetti W/ Sauce': 2.34,\n",
       " 'Tofu': 0.9299999999999999,\n",
       " 'Turkey Bologna': 0.44999999999999996,\n",
       " 'Wheat Bread': 0.15000000000000002,\n",
       " 'White Bread': 0.18}"
      ]
     },
     "execution_count": 170,
     "metadata": {},
     "output_type": "execute_result"
    }
   ],
   "source": [
    "costs"
   ]
  },
  {
   "cell_type": "markdown",
   "metadata": {},
   "source": [
    "### Create a dictionary of calories for all food items"
   ]
  },
  {
   "cell_type": "code",
   "execution_count": 171,
   "metadata": {},
   "outputs": [],
   "source": [
    "calories = dict(zip(food_items,df['Calories']))"
   ]
  },
  {
   "cell_type": "markdown",
   "metadata": {},
   "source": [
    "### Create a dictionary of cholesterol for all food items"
   ]
  },
  {
   "cell_type": "code",
   "execution_count": 172,
   "metadata": {},
   "outputs": [],
   "source": [
    "cholesterol = dict(zip(food_items,df['Cholesterol (mg)']))"
   ]
  },
  {
   "cell_type": "markdown",
   "metadata": {},
   "source": [
    "### Create a dictionary of total fat for all food items"
   ]
  },
  {
   "cell_type": "code",
   "execution_count": 173,
   "metadata": {},
   "outputs": [],
   "source": [
    "fat = dict(zip(food_items,df['Total_Fat (g)']))"
   ]
  },
  {
   "cell_type": "markdown",
   "metadata": {},
   "source": [
    "### Create a dictionary of sodium for all food items"
   ]
  },
  {
   "cell_type": "code",
   "execution_count": 174,
   "metadata": {},
   "outputs": [],
   "source": [
    "sodium = dict(zip(food_items,df['Sodium (mg)']))"
   ]
  },
  {
   "cell_type": "markdown",
   "metadata": {},
   "source": [
    "### Create a dictionary of carbohydrates for all food items"
   ]
  },
  {
   "cell_type": "code",
   "execution_count": 175,
   "metadata": {},
   "outputs": [],
   "source": [
    "carbs = dict(zip(food_items,df['Carbohydrates (g)']))"
   ]
  },
  {
   "cell_type": "markdown",
   "metadata": {},
   "source": [
    "### Create a dictionary of dietary fiber for all food items"
   ]
  },
  {
   "cell_type": "code",
   "execution_count": 176,
   "metadata": {},
   "outputs": [],
   "source": [
    "fiber = dict(zip(food_items,df['Dietary_Fiber (g)']))"
   ]
  },
  {
   "cell_type": "markdown",
   "metadata": {},
   "source": [
    "### Create a dictionary of protein for all food items"
   ]
  },
  {
   "cell_type": "code",
   "execution_count": 177,
   "metadata": {},
   "outputs": [],
   "source": [
    "protein = dict(zip(food_items,df['Protein (g)']))"
   ]
  },
  {
   "cell_type": "markdown",
   "metadata": {},
   "source": [
    "### Create a dictionary of vitamin A for all food items"
   ]
  },
  {
   "cell_type": "code",
   "execution_count": 178,
   "metadata": {},
   "outputs": [],
   "source": [
    "vit_A = dict(zip(food_items,df['Vit_A (IU)']))"
   ]
  },
  {
   "cell_type": "markdown",
   "metadata": {},
   "source": [
    "### Create a dictionary of vitamin C for all food items"
   ]
  },
  {
   "cell_type": "code",
   "execution_count": 179,
   "metadata": {},
   "outputs": [],
   "source": [
    "vit_C = dict(zip(food_items,df['Vit_C (IU)']))"
   ]
  },
  {
   "cell_type": "markdown",
   "metadata": {},
   "source": [
    "### Create a dictionary of calcium for all food items"
   ]
  },
  {
   "cell_type": "code",
   "execution_count": 180,
   "metadata": {},
   "outputs": [],
   "source": [
    "calcium = dict(zip(food_items,df['Calcium (mg)']))"
   ]
  },
  {
   "cell_type": "markdown",
   "metadata": {},
   "source": [
    "### Create a dictionary of iron for all food items"
   ]
  },
  {
   "cell_type": "code",
   "execution_count": 181,
   "metadata": {},
   "outputs": [],
   "source": [
    "iron = dict(zip(food_items,df['Iron (mg)']))"
   ]
  },
  {
   "cell_type": "markdown",
   "metadata": {},
   "source": [
    "### Create a dictionary of food items with lower bound"
   ]
  },
  {
   "cell_type": "code",
   "execution_count": 182,
   "metadata": {},
   "outputs": [],
   "source": [
    "# A dictionary called 'food_vars' is created to contain the referenced Variables\n",
    "food_vars = LpVariable.dicts(\"Food\",food_items,0,cat='Continuous')"
   ]
  },
  {
   "cell_type": "code",
   "execution_count": 183,
   "metadata": {},
   "outputs": [
    {
     "data": {
      "text/plain": [
       "{' Baked Potatoes': Food__Baked_Potatoes,\n",
       " 'Apple Pie': Food_Apple_Pie,\n",
       " 'Banana': Food_Banana,\n",
       " 'Beef Frankfurter': Food_Beef_Frankfurter,\n",
       " 'Chocolate Chip Cookies': Food_Chocolate_Chip_Cookies,\n",
       " 'Frozen Broccoli': Food_Frozen_Broccoli,\n",
       " 'Frozen Corn': Food_Frozen_Corn,\n",
       " 'Oatmeal Cookies': Food_Oatmeal_Cookies,\n",
       " 'Raw Apple': Food_Raw_Apple,\n",
       " 'Raw Lettuce Iceberg': Food_Raw_Lettuce_Iceberg,\n",
       " 'Roasted Chicken': Food_Roasted_Chicken,\n",
       " 'Scrambled Eggs': Food_Scrambled_Eggs,\n",
       " 'Spaghetti W/ Sauce': Food_Spaghetti_W__Sauce,\n",
       " 'Tofu': Food_Tofu,\n",
       " 'Turkey Bologna': Food_Turkey_Bologna,\n",
       " 'Wheat Bread': Food_Wheat_Bread,\n",
       " 'White Bread': Food_White_Bread}"
      ]
     },
     "execution_count": 183,
     "metadata": {},
     "output_type": "execute_result"
    }
   ],
   "source": [
    "food_vars"
   ]
  },
  {
   "cell_type": "markdown",
   "metadata": {},
   "source": [
    "### Adding the objective function to the problem"
   ]
  },
  {
   "cell_type": "code",
   "execution_count": 184,
   "metadata": {},
   "outputs": [],
   "source": [
    "# The objective function is added to 'prob' first\n",
    "prob += lpSum([costs[i]*food_vars[i] for i in food_items]), \"Total Cost of the balanced diet\""
   ]
  },
  {
   "cell_type": "markdown",
   "metadata": {},
   "source": [
    "### Adding the calorie constraints to the problem"
   ]
  },
  {
   "cell_type": "code",
   "execution_count": 185,
   "metadata": {},
   "outputs": [],
   "source": [
    "prob += lpSum([calories[f] * food_vars[f] for f in food_items]) >= 800.0, \"CalorieMinimum\"\n",
    "prob += lpSum([calories[f] * food_vars[f] for f in food_items]) <= 1300.0, \"CalorieMaximum\""
   ]
  },
  {
   "cell_type": "markdown",
   "metadata": {},
   "source": [
    "### Adding other nutrient constraints to the problem one by one..."
   ]
  },
  {
   "cell_type": "markdown",
   "metadata": {},
   "source": [
    "# Cholesterol\n",
    "prob += lpSum([cholesterol[f] * food_vars[f] for f in food_items]) >= 30.0, \"CholesterolMinimum\"\n",
    "prob += lpSum([cholesterol[f] * food_vars[f] for f in food_items]) <= 240.0, \"CholesterolMaximum\"\n",
    "\n",
    "# Fat\n",
    "prob += lpSum([fat[f] * food_vars[f] for f in food_items]) >= 40.0, \"FatMinimum\"\n",
    "prob += lpSum([fat[f] * food_vars[f] for f in food_items]) <= 100.0, \"FatMaximum\"\n",
    "\n",
    "# Sodium\n",
    "prob += lpSum([sodium[f] * food_vars[f] for f in food_items]) >= 500.0, \"SodiumMinimum\"\n",
    "prob += lpSum([sodium[f] * food_vars[f] for f in food_items]) <= 2000.0, \"SodiumMaximum\"\n",
    "\n",
    "# Carbs\n",
    "prob += lpSum([carbs[f] * food_vars[f] for f in food_items]) >= 130.0, \"CarbsMinimum\"\n",
    "prob += lpSum([carbs[f] * food_vars[f] for f in food_items]) <= 450.0, \"CarbsMaximum\"\n",
    "\n",
    "# Fiber\n",
    "prob += lpSum([fiber[f] * food_vars[f] for f in food_items]) >= 125.0, \"FiberMinimum\"\n",
    "prob += lpSum([fiber[f] * food_vars[f] for f in food_items]) <= 250.0, \"FiberMaximum\"\n",
    "\n",
    "# Protein\n",
    "prob += lpSum([protein[f] * food_vars[f] for f in food_items]) >= 60.0, \"ProteinMinimum\"\n",
    "prob += lpSum([protein[f] * food_vars[f] for f in food_items]) <= 100.0, \"ProteinMaximum\"\n",
    "\n",
    "# Vitamin A\n",
    "prob += lpSum([vit_A[f] * food_vars[f] for f in food_items]) >= 1000.0, \"VitaminAMinimum\"\n",
    "prob += lpSum([vit_A[f] * food_vars[f] for f in food_items]) <= 10000.0, \"VitaminAMaximum\"\n",
    "\n",
    "# Vitamin C\n",
    "prob += lpSum([vit_C[f] * food_vars[f] for f in food_items]) >= 400.0, \"VitaminCMinimum\"\n",
    "prob += lpSum([vit_C[f] * food_vars[f] for f in food_items]) <= 5000.0, \"VitaminCMaximum\"\n",
    "\n",
    "# Calcium\n",
    "prob += lpSum([calcium[f] * food_vars[f] for f in food_items]) >= 300.0, \"CalciumMinimum\"\n",
    "prob += lpSum([calcium[f] * food_vars[f] for f in food_items]) <= 1500.0, \"CalciumMaximum\"\n",
    "\n",
    "# Iron\n",
    "prob += lpSum([iron[f] * food_vars[f] for f in food_items]) >= 10.0, \"IronMinimum\"\n",
    "prob += lpSum([iron[f] * food_vars[f] for f in food_items]) <= 40.0, \"IronMaximum\""
   ]
  },
  {
   "cell_type": "code",
   "execution_count": 186,
   "metadata": {},
   "outputs": [],
   "source": [
    "# Fat\n",
    "prob += lpSum([fat[f] * food_vars[f] for f in food_items]) >= 20.0, \"FatMinimum\"\n",
    "prob += lpSum([fat[f] * food_vars[f] for f in food_items]) <= 50.0, \"FatMaximum\"\n",
    "\n",
    "# Carbs\n",
    "prob += lpSum([carbs[f] * food_vars[f] for f in food_items]) >= 130.0, \"CarbsMinimum\"\n",
    "prob += lpSum([carbs[f] * food_vars[f] for f in food_items]) <= 200.0, \"CarbsMaximum\"\n",
    "\n",
    "# Fiber\n",
    "prob += lpSum([fiber[f] * food_vars[f] for f in food_items]) >= 60.0, \"FiberMinimum\"\n",
    "prob += lpSum([fiber[f] * food_vars[f] for f in food_items]) <= 125.0, \"FiberMaximum\"\n",
    "\n",
    "# Protein\n",
    "prob += lpSum([protein[f] * food_vars[f] for f in food_items]) >= 100.0, \"ProteinMinimum\"\n",
    "prob += lpSum([protein[f] * food_vars[f] for f in food_items]) <= 150.0, \"ProteinMaximum\""
   ]
  },
  {
   "cell_type": "markdown",
   "metadata": {},
   "source": [
    "### Writing problem data to a `.lp` file"
   ]
  },
  {
   "cell_type": "code",
   "execution_count": 187,
   "metadata": {},
   "outputs": [],
   "source": [
    "# The problem data is written to an .lp file\n",
    "prob.writeLP(\"SimpleDietProblem.lp\")"
   ]
  },
  {
   "cell_type": "markdown",
   "metadata": {},
   "source": [
    "### Run the solver"
   ]
  },
  {
   "cell_type": "code",
   "execution_count": 188,
   "metadata": {},
   "outputs": [
    {
     "data": {
      "text/plain": [
       "1"
      ]
     },
     "execution_count": 188,
     "metadata": {},
     "output_type": "execute_result"
    }
   ],
   "source": [
    "# The problem is solved using PuLP's choice of Solver\n",
    "prob.solve()"
   ]
  },
  {
   "cell_type": "markdown",
   "metadata": {},
   "source": [
    "### Print the problem solution status `'optimal'`, `'infeasible'`, `'unbounded'` etc..."
   ]
  },
  {
   "cell_type": "code",
   "execution_count": 189,
   "metadata": {},
   "outputs": [
    {
     "name": "stdout",
     "output_type": "stream",
     "text": [
      "Status: Optimal\n"
     ]
    }
   ],
   "source": [
    "# The status of the solution is printed to the screen\n",
    "print(\"Status:\", LpStatus[prob.status])"
   ]
  },
  {
   "cell_type": "markdown",
   "metadata": {},
   "source": [
    "### Scan through the problem variables and print out only if the variable quanity is positive i.e. it is included in the optimal solution"
   ]
  },
  {
   "cell_type": "code",
   "execution_count": 190,
   "metadata": {},
   "outputs": [
    {
     "name": "stdout",
     "output_type": "stream",
     "text": [
      "Therefore, the optimal (least cost) balanced diet consists of\n",
      "--------------------------------------------------------------------------------------------------------------\n",
      "Food_Frozen_Broccoli = 6.9242113\n",
      "Food_Scrambled_Eggs = 6.060891\n",
      "Food__Baked_Potatoes = 1.0806324\n"
     ]
    }
   ],
   "source": [
    "print(\"Therefore, the optimal (least cost) balanced diet consists of\\n\"+\"-\"*110)\n",
    "for v in prob.variables():\n",
    "    if v.varValue>0:\n",
    "        print(v.name, \"=\", v.varValue)"
   ]
  },
  {
   "cell_type": "markdown",
   "metadata": {},
   "source": [
    "### Print the optimal diet cost"
   ]
  },
  {
   "cell_type": "code",
   "execution_count": 191,
   "metadata": {},
   "outputs": [
    {
     "name": "stdout",
     "output_type": "stream",
     "text": [
      "The total cost of this balanced diet is: $5.52\n"
     ]
    }
   ],
   "source": [
    "print(\"The total cost of this balanced diet is: ${}\".format(round(value(prob.objective),2)))"
   ]
  },
  {
   "cell_type": "code",
   "execution_count": null,
   "metadata": {},
   "outputs": [],
   "source": []
  }
 ],
 "metadata": {
  "kernelspec": {
   "display_name": "Python 3",
   "language": "python",
   "name": "python3"
  },
  "language_info": {
   "codemirror_mode": {
    "name": "ipython",
    "version": 3
   },
   "file_extension": ".py",
   "mimetype": "text/x-python",
   "name": "python",
   "nbconvert_exporter": "python",
   "pygments_lexer": "ipython3",
   "version": "3.6.2"
  },
  "latex_envs": {
   "LaTeX_envs_menu_present": true,
   "autoclose": false,
   "autocomplete": true,
   "bibliofile": "biblio.bib",
   "cite_by": "apalike",
   "current_citInitial": 1,
   "eqLabelWithNumbers": true,
   "eqNumInitial": 1,
   "hotkeys": {
    "equation": "Ctrl-E",
    "itemize": "Ctrl-I"
   },
   "labels_anchors": false,
   "latex_user_defs": false,
   "report_style_numbering": false,
   "user_envs_cfg": false
  }
 },
 "nbformat": 4,
 "nbformat_minor": 2
}
