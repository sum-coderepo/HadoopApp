{
 "cells": [
  {
   "cell_type": "markdown",
   "metadata": {
    "_uuid": "8c6a654a70b19670e20a5bd633d1ecfa0962798c"
   },
   "source": [
    "*Aditya Agrawal*\n",
    "\n",
    "I intend to make this as a simple-to-follow, yet thorough Exploratory Data Analysis task using Python, seaborn and matplotlib. It is my first kernel and feedback would be greatly appreciated. Also, feel free to upvote if you like the work!\n",
    "\n",
    "**Update V29:**\n",
    "1. Ordered categories added.\n",
    "2. Violin plot- shoe-size vs height.\n",
    "\n",
    "### Table of Contents: <a id=\"1\"></a>\n",
    "1. [About the dataset](#1)\n",
    "2. [Importing Data- Modcloth](#3)\n",
    "3. [EDA & Preprocessing](#4)\n",
    "    1. [Boxplot of Numerical Variables](#5)\n",
    "    2. [Handling Outliers](#6)\n",
    "    3. [Joint Distribution of bra_size vs size](#7)\n",
    "4. [Data Cleaning & Preprocessing](#8)\n",
    "    1. [Initial Distribution of Features](#9)\n",
    "    2. [Step-by-step feature processing](#10)\n",
    "        1. [Feature Engineering - new feature added](#11)\n",
    "5. [EDA via Visualizations](#12)\n",
    "    1. [Distribution of features](#13)\n",
    "    2. [Categories vs. Fit/Length/Quality](#14)\n",
    "    3. [Users vs Items bought](#15)\n",
    "    4. [Height vs Shoe-size](#16)\n",
    "6. [References](#references)\n",
    "7. [Assumptions](#assumptions)\n",
    "\n",
    "<a id=\"1\"></a>\n",
    "### About the dataset\n",
    "\n",
    ">This dataset contains self-reported clothing-fit feedback from customers as well as other side information like reviews, ratings, product categories, catalog sizes, customers’ measurements (etc.) from 2 websites:\n",
    ">1. [Modcloth](http://modcloth.com)\n",
    ">2. [Renttherunway](http://renttherunway.com)\n",
    ">\n",
    ">[[1]](#references) ModCloth sells women’s vintage clothing and accessories, from which the curator of the dataset collected data from three categories: dresses, tops, and bottoms. RentTheRunWay is a unique platform that allows women to rent clothes for various occasions; they collected data from several categories. \n",
    ">\n",
    ">**Note:** In both datasets, fit feedback belongs to one of three classes: ‘Small,’ ‘Fit,’ and ‘Large.’ And also, some [assumptions](#assumptions) have been made about the features in the dataset."
   ]
  },
  {
   "cell_type": "code",
   "execution_count": 2,
   "metadata": {
    "_cell_guid": "b1076dfc-b9ad-4769-8c92-a6c4dae69d19",
    "_kg_hide-input": true,
    "_kg_hide-output": true,
    "_uuid": "8f2839f25d086af736a60e9eeb907d3b93b6e0e5"
   },
   "outputs": [
    {
     "ename": "FileNotFoundError",
     "evalue": "[WinError 3] The system cannot find the path specified: '../input'",
     "output_type": "error",
     "traceback": [
      "\u001b[1;31m---------------------------------------------------------------------------\u001b[0m",
      "\u001b[1;31mFileNotFoundError\u001b[0m                         Traceback (most recent call last)",
      "\u001b[1;32m<ipython-input-2-e4316dd4fdbb>\u001b[0m in \u001b[0;36m<module>\u001b[1;34m\u001b[0m\n\u001b[0;32m      4\u001b[0m \u001b[1;32mimport\u001b[0m \u001b[0mseaborn\u001b[0m \u001b[1;32mas\u001b[0m \u001b[0msns\u001b[0m\u001b[1;33m\u001b[0m\u001b[1;33m\u001b[0m\u001b[0m\n\u001b[0;32m      5\u001b[0m \u001b[1;32mimport\u001b[0m \u001b[0mos\u001b[0m\u001b[1;33m\u001b[0m\u001b[1;33m\u001b[0m\u001b[0m\n\u001b[1;32m----> 6\u001b[1;33m \u001b[0mprint\u001b[0m\u001b[1;33m(\u001b[0m\u001b[0mos\u001b[0m\u001b[1;33m.\u001b[0m\u001b[0mlistdir\u001b[0m\u001b[1;33m(\u001b[0m\u001b[1;34m\"../input\"\u001b[0m\u001b[1;33m)\u001b[0m\u001b[1;33m)\u001b[0m\u001b[1;33m\u001b[0m\u001b[1;33m\u001b[0m\u001b[0m\n\u001b[0m\u001b[0;32m      7\u001b[0m \u001b[1;33m\u001b[0m\u001b[0m\n\u001b[0;32m      8\u001b[0m \u001b[1;31m# Suppressing all warnings\u001b[0m\u001b[1;33m\u001b[0m\u001b[1;33m\u001b[0m\u001b[1;33m\u001b[0m\u001b[0m\n",
      "\u001b[1;31mFileNotFoundError\u001b[0m: [WinError 3] The system cannot find the path specified: '../input'"
     ]
    }
   ],
   "source": [
    "import numpy as np # linear algebra\n",
    "import pandas as pd # data processing, CSV file I/O (e.g. pd.read_csv)\n",
    "import matplotlib.pyplot as plt\n",
    "import seaborn as sns\n",
    "import os\n",
    "print(os.listdir(\"../input\"))\n",
    "\n",
    "# Suppressing all warnings\n",
    "import warnings\n",
    "warnings.filterwarnings(\"ignore\")\n",
    "\n",
    "import matplotlib\n",
    "matplotlib.rc('figure', figsize = (20, 8))\n",
    "matplotlib.rc('font', size = 14)\n",
    "matplotlib.rc('axes.spines', top = False, right = False)\n",
    "matplotlib.rc('axes', grid = False)\n",
    "matplotlib.rc('axes', facecolor = 'white')"
   ]
  },
  {
   "cell_type": "markdown",
   "metadata": {
    "_uuid": "0afe5de71cb8f3be40b3ed12413d7f9cea6f7cf3"
   },
   "source": [
    "<a id=\"2\"></a>\n",
    "#  [Modcloth](http://modcloth.com) Dataset\n",
    "<a id=\"3\"></a>\n",
    "## Importing data using Pandas\n",
    "Taking a look at the first few lines of the modcloth data's json file using the inbuilt OS bash command-head. "
   ]
  },
  {
   "cell_type": "code",
   "execution_count": null,
   "metadata": {
    "_kg_hide-output": true,
    "_uuid": "e562b7dc4a103ff114b6139483e869159f67fc22"
   },
   "outputs": [],
   "source": [
    "# Execute this in your kernel to view the first n (here-4) lines of the json file.\n",
    "! head -n 4 ../input/modcloth_final_data.json"
   ]
  },
  {
   "cell_type": "markdown",
   "metadata": {
    "_uuid": "087af58a4c546acd6c52d9ec5b0dbf3f95cb0f23"
   },
   "source": [
    "Using the pd.read_json() function the json file is brought into a pandas DataFrame, with the *lines* parameter as *True*- because every new object is separated by a new line. "
   ]
  },
  {
   "cell_type": "code",
   "execution_count": 3,
   "metadata": {
    "_kg_hide-input": true,
    "_uuid": "2178520ea77364cb4faedefca9acba4ee659cc1a"
   },
   "outputs": [
    {
     "data": {
      "text/html": [
       "<div>\n",
       "<style scoped>\n",
       "    .dataframe tbody tr th:only-of-type {\n",
       "        vertical-align: middle;\n",
       "    }\n",
       "\n",
       "    .dataframe tbody tr th {\n",
       "        vertical-align: top;\n",
       "    }\n",
       "\n",
       "    .dataframe thead th {\n",
       "        text-align: right;\n",
       "    }\n",
       "</style>\n",
       "<table border=\"1\" class=\"dataframe\">\n",
       "  <thead>\n",
       "    <tr style=\"text-align: right;\">\n",
       "      <th></th>\n",
       "      <th>item_id</th>\n",
       "      <th>waist</th>\n",
       "      <th>size</th>\n",
       "      <th>quality</th>\n",
       "      <th>cup size</th>\n",
       "      <th>hips</th>\n",
       "      <th>bra size</th>\n",
       "      <th>category</th>\n",
       "      <th>bust</th>\n",
       "      <th>height</th>\n",
       "      <th>user_name</th>\n",
       "      <th>length</th>\n",
       "      <th>fit</th>\n",
       "      <th>user_id</th>\n",
       "      <th>shoe size</th>\n",
       "      <th>shoe width</th>\n",
       "      <th>review_summary</th>\n",
       "      <th>review_text</th>\n",
       "    </tr>\n",
       "  </thead>\n",
       "  <tbody>\n",
       "    <tr>\n",
       "      <td>0</td>\n",
       "      <td>123373</td>\n",
       "      <td>29.0</td>\n",
       "      <td>7</td>\n",
       "      <td>5.0</td>\n",
       "      <td>d</td>\n",
       "      <td>38.0</td>\n",
       "      <td>34.0</td>\n",
       "      <td>new</td>\n",
       "      <td>36</td>\n",
       "      <td>5ft 6in</td>\n",
       "      <td>Emily</td>\n",
       "      <td>just right</td>\n",
       "      <td>small</td>\n",
       "      <td>991571</td>\n",
       "      <td>NaN</td>\n",
       "      <td>NaN</td>\n",
       "      <td>NaN</td>\n",
       "      <td>NaN</td>\n",
       "    </tr>\n",
       "    <tr>\n",
       "      <td>1</td>\n",
       "      <td>123373</td>\n",
       "      <td>31.0</td>\n",
       "      <td>13</td>\n",
       "      <td>3.0</td>\n",
       "      <td>b</td>\n",
       "      <td>30.0</td>\n",
       "      <td>36.0</td>\n",
       "      <td>new</td>\n",
       "      <td>NaN</td>\n",
       "      <td>5ft 2in</td>\n",
       "      <td>sydneybraden2001</td>\n",
       "      <td>just right</td>\n",
       "      <td>small</td>\n",
       "      <td>587883</td>\n",
       "      <td>NaN</td>\n",
       "      <td>NaN</td>\n",
       "      <td>NaN</td>\n",
       "      <td>NaN</td>\n",
       "    </tr>\n",
       "    <tr>\n",
       "      <td>2</td>\n",
       "      <td>123373</td>\n",
       "      <td>30.0</td>\n",
       "      <td>7</td>\n",
       "      <td>2.0</td>\n",
       "      <td>b</td>\n",
       "      <td>NaN</td>\n",
       "      <td>32.0</td>\n",
       "      <td>new</td>\n",
       "      <td>NaN</td>\n",
       "      <td>5ft 7in</td>\n",
       "      <td>Ugggh</td>\n",
       "      <td>slightly long</td>\n",
       "      <td>small</td>\n",
       "      <td>395665</td>\n",
       "      <td>9.0</td>\n",
       "      <td>NaN</td>\n",
       "      <td>NaN</td>\n",
       "      <td>NaN</td>\n",
       "    </tr>\n",
       "    <tr>\n",
       "      <td>3</td>\n",
       "      <td>123373</td>\n",
       "      <td>NaN</td>\n",
       "      <td>21</td>\n",
       "      <td>5.0</td>\n",
       "      <td>dd/e</td>\n",
       "      <td>NaN</td>\n",
       "      <td>NaN</td>\n",
       "      <td>new</td>\n",
       "      <td>NaN</td>\n",
       "      <td>NaN</td>\n",
       "      <td>alexmeyer626</td>\n",
       "      <td>just right</td>\n",
       "      <td>fit</td>\n",
       "      <td>875643</td>\n",
       "      <td>NaN</td>\n",
       "      <td>NaN</td>\n",
       "      <td>NaN</td>\n",
       "      <td>NaN</td>\n",
       "    </tr>\n",
       "    <tr>\n",
       "      <td>4</td>\n",
       "      <td>123373</td>\n",
       "      <td>NaN</td>\n",
       "      <td>18</td>\n",
       "      <td>5.0</td>\n",
       "      <td>b</td>\n",
       "      <td>NaN</td>\n",
       "      <td>36.0</td>\n",
       "      <td>new</td>\n",
       "      <td>NaN</td>\n",
       "      <td>5ft 2in</td>\n",
       "      <td>dberrones1</td>\n",
       "      <td>slightly long</td>\n",
       "      <td>small</td>\n",
       "      <td>944840</td>\n",
       "      <td>NaN</td>\n",
       "      <td>NaN</td>\n",
       "      <td>NaN</td>\n",
       "      <td>NaN</td>\n",
       "    </tr>\n",
       "  </tbody>\n",
       "</table>\n",
       "</div>"
      ],
      "text/plain": [
       "   item_id  waist  size  quality cup size  hips  bra size category bust  \\\n",
       "0   123373   29.0     7      5.0        d  38.0      34.0      new   36   \n",
       "1   123373   31.0    13      3.0        b  30.0      36.0      new  NaN   \n",
       "2   123373   30.0     7      2.0        b   NaN      32.0      new  NaN   \n",
       "3   123373    NaN    21      5.0     dd/e   NaN       NaN      new  NaN   \n",
       "4   123373    NaN    18      5.0        b   NaN      36.0      new  NaN   \n",
       "\n",
       "    height         user_name         length    fit  user_id  shoe size  \\\n",
       "0  5ft 6in             Emily     just right  small   991571        NaN   \n",
       "1  5ft 2in  sydneybraden2001     just right  small   587883        NaN   \n",
       "2  5ft 7in             Ugggh  slightly long  small   395665        9.0   \n",
       "3      NaN      alexmeyer626     just right    fit   875643        NaN   \n",
       "4  5ft 2in        dberrones1  slightly long  small   944840        NaN   \n",
       "\n",
       "  shoe width review_summary review_text  \n",
       "0        NaN            NaN         NaN  \n",
       "1        NaN            NaN         NaN  \n",
       "2        NaN            NaN         NaN  \n",
       "3        NaN            NaN         NaN  \n",
       "4        NaN            NaN         NaN  "
      ]
     },
     "execution_count": 3,
     "metadata": {},
     "output_type": "execute_result"
    }
   ],
   "source": [
    "mc_df = pd.read_json('D:\\\\kaggleDatasets\\\\clothing-fit-dataset-for-size-recommendation\\\\modcloth_final_data.json', lines=True)\n",
    "mc_df.head()"
   ]
  },
  {
   "cell_type": "markdown",
   "metadata": {
    "_uuid": "8c2f1fbfc72d21e57693d431a0b91f277d4f9e46"
   },
   "source": [
    "<a id=\"4\"></a>\n",
    "# EDA - Exploratory Data Analysis\n",
    "\n",
    "We can already make few observations here, by looking at the head of the data:\n",
    "1. There are missing values across the dataframe, which need to be handled.\n",
    "2. Cup-size contains multiple preferences- which will need handling, if we wish to define cup sizes as 'category' datatype.\n",
    "3. Height column needs to be parsed for extracting the height in a numerical quantity, it looks like a string (object) right now.\n",
    "4. Not so important, but some columns could do with some renaming- for removing spaces.\n",
    "\n",
    "Firstly, we handle the naming of columns for ease-of-access in pandas."
   ]
  },
  {
   "cell_type": "code",
   "execution_count": 4,
   "metadata": {
    "_kg_hide-input": true,
    "_kg_hide-output": true,
    "_uuid": "24b27107a376a90044818b4cfb55e20b45b08b34"
   },
   "outputs": [
    {
     "data": {
      "text/plain": [
       "Index(['item_id', 'waist', 'size', 'quality', 'cup size', 'hips', 'bra size',\n",
       "       'category', 'bust', 'height', 'user_name', 'length', 'fit', 'user_id',\n",
       "       'shoe size', 'shoe width', 'review_summary', 'review_text'],\n",
       "      dtype='object')"
      ]
     },
     "execution_count": 4,
     "metadata": {},
     "output_type": "execute_result"
    }
   ],
   "source": [
    "mc_df.columns"
   ]
  },
  {
   "cell_type": "code",
   "execution_count": 5,
   "metadata": {
    "_kg_hide-input": true,
    "_uuid": "2eb7d925650a29cfd0541a5c2038163d4cda4bf9"
   },
   "outputs": [],
   "source": [
    "mc_df.columns = ['bra_size', 'bust', 'category', 'cup_size', 'fit', 'height', 'hips',\n",
    "       'item_id', 'length', 'quality', 'review_summary', 'review_text',\n",
    "       'shoe_size', 'shoe_width', 'size', 'user_id', 'user_name', 'waist']"
   ]
  },
  {
   "cell_type": "code",
   "execution_count": 6,
   "metadata": {
    "_kg_hide-output": true,
    "_uuid": "d7ddb93e533e9dc8b72935be347fef34a443edbd"
   },
   "outputs": [
    {
     "name": "stdout",
     "output_type": "stream",
     "text": [
      "<class 'pandas.core.frame.DataFrame'>\n",
      "RangeIndex: 82790 entries, 0 to 82789\n",
      "Data columns (total 18 columns):\n",
      "bra_size          82790 non-null int64\n",
      "bust              2882 non-null float64\n",
      "category          82790 non-null int64\n",
      "cup_size          82722 non-null float64\n",
      "fit               76535 non-null object\n",
      "height            56064 non-null float64\n",
      "hips              76772 non-null float64\n",
      "item_id           82790 non-null object\n",
      "length            11854 non-null object\n",
      "quality           81683 non-null object\n",
      "review_summary    82790 non-null object\n",
      "review_text       82755 non-null object\n",
      "shoe_size         82790 non-null object\n",
      "shoe_width        82790 non-null int64\n",
      "size              27915 non-null float64\n",
      "user_id           18607 non-null object\n",
      "user_name         76065 non-null object\n",
      "waist             76065 non-null object\n",
      "dtypes: float64(5), int64(3), object(10)\n",
      "memory usage: 11.4+ MB\n"
     ]
    }
   ],
   "source": [
    "mc_df.info()"
   ]
  },
  {
   "cell_type": "markdown",
   "metadata": {
    "_uuid": "72958fa8d1073677cab16e0c0ff4dd5c73408269"
   },
   "source": [
    "We can extend our observations on missing data and the datatypes here:\n",
    "* Out of 18 columns, only 6 columns have complete data.\n",
    "* Quite a lot of data seems to be missing in bust, shoe width, shoe size and waist.\n",
    "* We might want to especially look at the items which **have** shoe size and shoe width available- these could possibly be shoes!\n",
    "* Alot of the columns have strings (object datatype), which needs to be parsed into the category datatype (aids in efficient memory consumption as well). \n",
    "* *Waist* column surprisingly has a lot of NULL values- considering most of the data from Modcloth comes from the 3 categories of 'dresses, tops and bottoms'.\n",
    "\n",
    "### Looking at the percentage of missing values per column"
   ]
  },
  {
   "cell_type": "code",
   "execution_count": 7,
   "metadata": {
    "_kg_hide-input": true,
    "_uuid": "2f8943057ad36703c03578d3230032e9126166af"
   },
   "outputs": [
    {
     "data": {
      "text/html": [
       "<div>\n",
       "<style scoped>\n",
       "    .dataframe tbody tr th:only-of-type {\n",
       "        vertical-align: middle;\n",
       "    }\n",
       "\n",
       "    .dataframe tbody tr th {\n",
       "        vertical-align: top;\n",
       "    }\n",
       "\n",
       "    .dataframe thead th {\n",
       "        text-align: right;\n",
       "    }\n",
       "</style>\n",
       "<table border=\"1\" class=\"dataframe\">\n",
       "  <thead>\n",
       "    <tr style=\"text-align: right;\">\n",
       "      <th></th>\n",
       "      <th>total_missing</th>\n",
       "      <th>perc_missing</th>\n",
       "    </tr>\n",
       "  </thead>\n",
       "  <tbody>\n",
       "    <tr>\n",
       "      <td>bra_size</td>\n",
       "      <td>0</td>\n",
       "      <td>0.000000</td>\n",
       "    </tr>\n",
       "    <tr>\n",
       "      <td>bust</td>\n",
       "      <td>79908</td>\n",
       "      <td>96.518903</td>\n",
       "    </tr>\n",
       "    <tr>\n",
       "      <td>category</td>\n",
       "      <td>0</td>\n",
       "      <td>0.000000</td>\n",
       "    </tr>\n",
       "    <tr>\n",
       "      <td>cup_size</td>\n",
       "      <td>68</td>\n",
       "      <td>0.082136</td>\n",
       "    </tr>\n",
       "    <tr>\n",
       "      <td>fit</td>\n",
       "      <td>6255</td>\n",
       "      <td>7.555260</td>\n",
       "    </tr>\n",
       "    <tr>\n",
       "      <td>height</td>\n",
       "      <td>26726</td>\n",
       "      <td>32.281677</td>\n",
       "    </tr>\n",
       "    <tr>\n",
       "      <td>hips</td>\n",
       "      <td>6018</td>\n",
       "      <td>7.268994</td>\n",
       "    </tr>\n",
       "    <tr>\n",
       "      <td>item_id</td>\n",
       "      <td>0</td>\n",
       "      <td>0.000000</td>\n",
       "    </tr>\n",
       "    <tr>\n",
       "      <td>length</td>\n",
       "      <td>70936</td>\n",
       "      <td>85.681846</td>\n",
       "    </tr>\n",
       "    <tr>\n",
       "      <td>quality</td>\n",
       "      <td>1107</td>\n",
       "      <td>1.337118</td>\n",
       "    </tr>\n",
       "    <tr>\n",
       "      <td>review_summary</td>\n",
       "      <td>0</td>\n",
       "      <td>0.000000</td>\n",
       "    </tr>\n",
       "    <tr>\n",
       "      <td>review_text</td>\n",
       "      <td>35</td>\n",
       "      <td>0.042276</td>\n",
       "    </tr>\n",
       "    <tr>\n",
       "      <td>shoe_size</td>\n",
       "      <td>0</td>\n",
       "      <td>0.000000</td>\n",
       "    </tr>\n",
       "    <tr>\n",
       "      <td>shoe_width</td>\n",
       "      <td>0</td>\n",
       "      <td>0.000000</td>\n",
       "    </tr>\n",
       "    <tr>\n",
       "      <td>size</td>\n",
       "      <td>54875</td>\n",
       "      <td>66.282160</td>\n",
       "    </tr>\n",
       "    <tr>\n",
       "      <td>user_id</td>\n",
       "      <td>64183</td>\n",
       "      <td>77.525063</td>\n",
       "    </tr>\n",
       "    <tr>\n",
       "      <td>user_name</td>\n",
       "      <td>6725</td>\n",
       "      <td>8.122962</td>\n",
       "    </tr>\n",
       "    <tr>\n",
       "      <td>waist</td>\n",
       "      <td>6725</td>\n",
       "      <td>8.122962</td>\n",
       "    </tr>\n",
       "  </tbody>\n",
       "</table>\n",
       "</div>"
      ],
      "text/plain": [
       "                total_missing  perc_missing\n",
       "bra_size                    0      0.000000\n",
       "bust                    79908     96.518903\n",
       "category                    0      0.000000\n",
       "cup_size                   68      0.082136\n",
       "fit                      6255      7.555260\n",
       "height                  26726     32.281677\n",
       "hips                     6018      7.268994\n",
       "item_id                     0      0.000000\n",
       "length                  70936     85.681846\n",
       "quality                  1107      1.337118\n",
       "review_summary              0      0.000000\n",
       "review_text                35      0.042276\n",
       "shoe_size                   0      0.000000\n",
       "shoe_width                  0      0.000000\n",
       "size                    54875     66.282160\n",
       "user_id                 64183     77.525063\n",
       "user_name                6725      8.122962\n",
       "waist                    6725      8.122962"
      ]
     },
     "execution_count": 7,
     "metadata": {},
     "output_type": "execute_result"
    }
   ],
   "source": [
    "missing_data = pd.DataFrame({'total_missing': mc_df.isnull().sum(), 'perc_missing': (mc_df.isnull().sum()/82790)*100})\n",
    "missing_data"
   ]
  },
  {
   "cell_type": "markdown",
   "metadata": {
    "_uuid": "6007512cb980547f2930af9093e6d570fede7841"
   },
   "source": [
    "### Statistical description of numerical variables"
   ]
  },
  {
   "cell_type": "code",
   "execution_count": null,
   "metadata": {
    "_kg_hide-input": true,
    "_uuid": "508e99930c3b1ecb429e8501e514a346e65d84ff"
   },
   "outputs": [],
   "source": [
    "mc_df.describe()"
   ]
  },
  {
   "cell_type": "markdown",
   "metadata": {
    "_uuid": "a96fec79cea18def7c1f2dfdd9b9d9aafc51b8bb"
   },
   "source": [
    "Some more important observations here, before we dive into performing the pre-processing tasks onto our data:\n",
    "* Bra_size, hips might not need to be a float- category dtype?\n",
    "* Most of the shoe sizes are around 5-9, but the maximum shoe size is 38! (It is surprising as the website uses UK shoe sizing.)\n",
    "* Size has a minimum of 0 and maximum Size matches the maximum shoe size.\n",
    "\n",
    "Let's visualize the numerical quantities in our dataset as boxplots, to have a better sense of the outliers.\n",
    "\n",
    "<a id=\"5\"></a>\n",
    "## Boxplot of numerical variables"
   ]
  },
  {
   "cell_type": "code",
   "execution_count": 9,
   "metadata": {
    "_kg_hide-input": true,
    "_uuid": "cd363c3bc0f41c8aff52ece76320448238007815"
   },
   "outputs": [
    {
     "data": {
      "image/png": "[encoded data removed]",
      "text/plain": [
       "<Figure size 1296x648 with 1 Axes>"
      ]
     },
     "metadata": {
      "needs_background": "light"
     },
     "output_type": "display_data"
    }
   ],
   "source": [
    "num_cols = ['bra_size','hips','quality','shoe_size','size','waist']\n",
    "plt.figure(figsize=(18,9))\n",
    "mc_df[num_cols].boxplot()\n",
    "plt.title(\"Numerical variables in Modcloth dataset\", fontsize=20)\n",
    "plt.show()"
   ]
  },
  {
   "cell_type": "markdown",
   "metadata": {
    "_uuid": "b44f0dcc9640c6a6f23fc1504ddfb6ca9002fbca"
   },
   "source": [
    "<a id=\"6\"></a>\n",
    "## Handling Outliers\n",
    "\n",
    "* **shoe_size**:\n",
    "We can clearly see that the single maximum value of shoe size (38) is an outlier and we should ideally remove that row or handle that outlier value. Let's take a look at that entry in our data."
   ]
  },
  {
   "cell_type": "code",
   "execution_count": 8,
   "metadata": {
    "_kg_hide-input": true,
    "_kg_hide-output": true,
    "_uuid": "fb102b3319b704cf43220c62a8b8083f55ae80dd"
   },
   "outputs": [
    {
     "data": {
      "text/html": [
       "<div>\n",
       "<style scoped>\n",
       "    .dataframe tbody tr th:only-of-type {\n",
       "        vertical-align: middle;\n",
       "    }\n",
       "\n",
       "    .dataframe tbody tr th {\n",
       "        vertical-align: top;\n",
       "    }\n",
       "\n",
       "    .dataframe thead th {\n",
       "        text-align: right;\n",
       "    }\n",
       "</style>\n",
       "<table border=\"1\" class=\"dataframe\">\n",
       "  <thead>\n",
       "    <tr style=\"text-align: right;\">\n",
       "      <th></th>\n",
       "      <th>bra_size</th>\n",
       "      <th>bust</th>\n",
       "      <th>category</th>\n",
       "      <th>cup_size</th>\n",
       "      <th>fit</th>\n",
       "      <th>height</th>\n",
       "      <th>hips</th>\n",
       "      <th>item_id</th>\n",
       "      <th>length</th>\n",
       "      <th>quality</th>\n",
       "      <th>review_summary</th>\n",
       "      <th>review_text</th>\n",
       "      <th>shoe_size</th>\n",
       "      <th>shoe_width</th>\n",
       "      <th>size</th>\n",
       "      <th>user_id</th>\n",
       "      <th>user_name</th>\n",
       "      <th>waist</th>\n",
       "    </tr>\n",
       "  </thead>\n",
       "  <tbody>\n",
       "  </tbody>\n",
       "</table>\n",
       "</div>"
      ],
      "text/plain": [
       "Empty DataFrame\n",
       "Columns: [bra_size, bust, category, cup_size, fit, height, hips, item_id, length, quality, review_summary, review_text, shoe_size, shoe_width, size, user_id, user_name, waist]\n",
       "Index: []"
      ]
     },
     "execution_count": 8,
     "metadata": {},
     "output_type": "execute_result"
    }
   ],
   "source": [
    "mc_df[mc_df.shoe_size == 38]"
   ]
  },
  {
   "cell_type": "markdown",
   "metadata": {
    "_uuid": "1761fc49243bba1384fc66ab55e3ee768c328e11"
   },
   "source": [
    ">We can see that the entry seems to be legit, except for the shoe size- it could be wrongly entered by the customer or simple noise. We'll enter this as null value for now."
   ]
  },
  {
   "cell_type": "code",
   "execution_count": 10,
   "metadata": {
    "_kg_hide-input": true,
    "_kg_hide-output": true,
    "_uuid": "83171c52966cbcbe26b5fc75deafe79806caa39b"
   },
   "outputs": [],
   "source": [
    "mc_df.at[37313,'shoe_size'] = None"
   ]
  },
  {
   "cell_type": "markdown",
   "metadata": {
    "_uuid": "bbdb1af79fd95484393854a3b522fef8b77d1cf9"
   },
   "source": [
    "* **bra_size**:\n",
    "We can take a look at the top 10 bra-sizes (we can see that boxplot shows 2 values as outliers, as per the IQR- Inter-Quartile Range)."
   ]
  },
  {
   "cell_type": "code",
   "execution_count": 11,
   "metadata": {
    "_kg_hide-output": true,
    "_uuid": "9db3c56fc9fed7c0bb0169ab0437cee1297d9a2f",
    "scrolled": true
   },
   "outputs": [
    {
     "data": {
      "text/html": [
       "<div>\n",
       "<style scoped>\n",
       "    .dataframe tbody tr th:only-of-type {\n",
       "        vertical-align: middle;\n",
       "    }\n",
       "\n",
       "    .dataframe tbody tr th {\n",
       "        vertical-align: top;\n",
       "    }\n",
       "\n",
       "    .dataframe thead th {\n",
       "        text-align: right;\n",
       "    }\n",
       "</style>\n",
       "<table border=\"1\" class=\"dataframe\">\n",
       "  <thead>\n",
       "    <tr style=\"text-align: right;\">\n",
       "      <th></th>\n",
       "      <th>bra_size</th>\n",
       "      <th>bust</th>\n",
       "      <th>category</th>\n",
       "      <th>cup_size</th>\n",
       "      <th>fit</th>\n",
       "      <th>height</th>\n",
       "      <th>hips</th>\n",
       "      <th>item_id</th>\n",
       "      <th>length</th>\n",
       "      <th>quality</th>\n",
       "      <th>review_summary</th>\n",
       "      <th>review_text</th>\n",
       "      <th>shoe_size</th>\n",
       "      <th>shoe_width</th>\n",
       "      <th>size</th>\n",
       "      <th>user_id</th>\n",
       "      <th>user_name</th>\n",
       "      <th>waist</th>\n",
       "    </tr>\n",
       "  </thead>\n",
       "  <tbody>\n",
       "    <tr>\n",
       "      <td>82789</td>\n",
       "      <td>807722</td>\n",
       "      <td>NaN</td>\n",
       "      <td>4</td>\n",
       "      <td>4.0</td>\n",
       "      <td>d</td>\n",
       "      <td>39.0</td>\n",
       "      <td>32.0</td>\n",
       "      <td>outerwear</td>\n",
       "      <td>NaN</td>\n",
       "      <td>6ft</td>\n",
       "      <td>maireadsteadman</td>\n",
       "      <td>just right</td>\n",
       "      <td>fit</td>\n",
       "      <td>78305</td>\n",
       "      <td>NaN</td>\n",
       "      <td>NaN</td>\n",
       "      <td>I love this piece. I'm re</td>\n",
       "      <td>I love this piece. I'm really happy with it!</td>\n",
       "    </tr>\n",
       "    <tr>\n",
       "      <td>82766</td>\n",
       "      <td>807722</td>\n",
       "      <td>NaN</td>\n",
       "      <td>8</td>\n",
       "      <td>5.0</td>\n",
       "      <td>c</td>\n",
       "      <td>36.0</td>\n",
       "      <td>34.0</td>\n",
       "      <td>outerwear</td>\n",
       "      <td>NaN</td>\n",
       "      <td>5ft 7in</td>\n",
       "      <td>dana_johnson_1</td>\n",
       "      <td>just right</td>\n",
       "      <td>fit</td>\n",
       "      <td>33248</td>\n",
       "      <td>NaN</td>\n",
       "      <td>NaN</td>\n",
       "      <td>What a fabulous blazer!</td>\n",
       "      <td>What a fabulous blazer!  It's made of a thicke...</td>\n",
       "    </tr>\n",
       "    <tr>\n",
       "      <td>82764</td>\n",
       "      <td>807722</td>\n",
       "      <td>NaN</td>\n",
       "      <td>4</td>\n",
       "      <td>5.0</td>\n",
       "      <td>NaN</td>\n",
       "      <td>NaN</td>\n",
       "      <td>NaN</td>\n",
       "      <td>outerwear</td>\n",
       "      <td>NaN</td>\n",
       "      <td>5ft 3in</td>\n",
       "      <td>Hufsa</td>\n",
       "      <td>just right</td>\n",
       "      <td>fit</td>\n",
       "      <td>475911</td>\n",
       "      <td>NaN</td>\n",
       "      <td>NaN</td>\n",
       "      <td>Perfect for work dresses.</td>\n",
       "      <td>Perfect for work dresses.</td>\n",
       "    </tr>\n",
       "    <tr>\n",
       "      <td>82763</td>\n",
       "      <td>807722</td>\n",
       "      <td>NaN</td>\n",
       "      <td>8</td>\n",
       "      <td>5.0</td>\n",
       "      <td>c</td>\n",
       "      <td>30.0</td>\n",
       "      <td>34.0</td>\n",
       "      <td>outerwear</td>\n",
       "      <td>NaN</td>\n",
       "      <td>5ft 1in</td>\n",
       "      <td>j.pastor19</td>\n",
       "      <td>just right</td>\n",
       "      <td>fit</td>\n",
       "      <td>747277</td>\n",
       "      <td>5.5</td>\n",
       "      <td>narrow</td>\n",
       "      <td>This jacket has shoulder</td>\n",
       "      <td>This jacket has shoulder pads in it  going to ...</td>\n",
       "    </tr>\n",
       "    <tr>\n",
       "      <td>82762</td>\n",
       "      <td>807722</td>\n",
       "      <td>NaN</td>\n",
       "      <td>8</td>\n",
       "      <td>5.0</td>\n",
       "      <td>d</td>\n",
       "      <td>36.0</td>\n",
       "      <td>36.0</td>\n",
       "      <td>outerwear</td>\n",
       "      <td>NaN</td>\n",
       "      <td>5ft 4in</td>\n",
       "      <td>shara2179</td>\n",
       "      <td>just right</td>\n",
       "      <td>small</td>\n",
       "      <td>465791</td>\n",
       "      <td>NaN</td>\n",
       "      <td>NaN</td>\n",
       "      <td>Was a bit hard to close,</td>\n",
       "      <td>Was a bit hard to close, but I was planning to...</td>\n",
       "    </tr>\n",
       "    <tr>\n",
       "      <td>82760</td>\n",
       "      <td>807722</td>\n",
       "      <td>NaN</td>\n",
       "      <td>12</td>\n",
       "      <td>5.0</td>\n",
       "      <td>b</td>\n",
       "      <td>36.0</td>\n",
       "      <td>36.0</td>\n",
       "      <td>outerwear</td>\n",
       "      <td>NaN</td>\n",
       "      <td>5ft 10in</td>\n",
       "      <td>kochkrystal</td>\n",
       "      <td>just right</td>\n",
       "      <td>fit</td>\n",
       "      <td>392328</td>\n",
       "      <td>NaN</td>\n",
       "      <td>NaN</td>\n",
       "      <td>Soft and stylish, I'm obs</td>\n",
       "      <td>Soft and stylish, I'm obsessed with this jacket!</td>\n",
       "    </tr>\n",
       "    <tr>\n",
       "      <td>82759</td>\n",
       "      <td>807722</td>\n",
       "      <td>NaN</td>\n",
       "      <td>8</td>\n",
       "      <td>4.0</td>\n",
       "      <td>c</td>\n",
       "      <td>36.0</td>\n",
       "      <td>34.0</td>\n",
       "      <td>outerwear</td>\n",
       "      <td>NaN</td>\n",
       "      <td>5ft 6in</td>\n",
       "      <td>angelammcq</td>\n",
       "      <td>just right</td>\n",
       "      <td>fit</td>\n",
       "      <td>905432</td>\n",
       "      <td>NaN</td>\n",
       "      <td>NaN</td>\n",
       "      <td>Fits perfectly!</td>\n",
       "      <td>Fits perfectly!</td>\n",
       "    </tr>\n",
       "    <tr>\n",
       "      <td>82758</td>\n",
       "      <td>807722</td>\n",
       "      <td>NaN</td>\n",
       "      <td>4</td>\n",
       "      <td>5.0</td>\n",
       "      <td>c</td>\n",
       "      <td>35.0</td>\n",
       "      <td>32.0</td>\n",
       "      <td>outerwear</td>\n",
       "      <td>NaN</td>\n",
       "      <td>5ft 8in</td>\n",
       "      <td>nicholesullivan81</td>\n",
       "      <td>just right</td>\n",
       "      <td>fit</td>\n",
       "      <td>78267</td>\n",
       "      <td>NaN</td>\n",
       "      <td>NaN</td>\n",
       "      <td>This jacket is adorable!</td>\n",
       "      <td>This jacket is adorable! I purchased the white...</td>\n",
       "    </tr>\n",
       "    <tr>\n",
       "      <td>82757</td>\n",
       "      <td>807722</td>\n",
       "      <td>NaN</td>\n",
       "      <td>12</td>\n",
       "      <td>4.0</td>\n",
       "      <td>dd/e</td>\n",
       "      <td>35.0</td>\n",
       "      <td>36.0</td>\n",
       "      <td>outerwear</td>\n",
       "      <td>NaN</td>\n",
       "      <td>5ft 7in</td>\n",
       "      <td>Kavya</td>\n",
       "      <td>just right</td>\n",
       "      <td>fit</td>\n",
       "      <td>374234</td>\n",
       "      <td>NaN</td>\n",
       "      <td>NaN</td>\n",
       "      <td>I love how this works as</td>\n",
       "      <td>I love how this works as both a professional a...</td>\n",
       "    </tr>\n",
       "    <tr>\n",
       "      <td>82756</td>\n",
       "      <td>807722</td>\n",
       "      <td>NaN</td>\n",
       "      <td>12</td>\n",
       "      <td>4.0</td>\n",
       "      <td>c</td>\n",
       "      <td>38.0</td>\n",
       "      <td>34.0</td>\n",
       "      <td>outerwear</td>\n",
       "      <td>NaN</td>\n",
       "      <td>5ft 5in</td>\n",
       "      <td>Stacia</td>\n",
       "      <td>just right</td>\n",
       "      <td>fit</td>\n",
       "      <td>258653</td>\n",
       "      <td>NaN</td>\n",
       "      <td>NaN</td>\n",
       "      <td>I like how stretchy it is</td>\n",
       "      <td>I like how stretchy it is and the fit. I went ...</td>\n",
       "    </tr>\n",
       "  </tbody>\n",
       "</table>\n",
       "</div>"
      ],
      "text/plain": [
       "       bra_size  bust  category  cup_size   fit  height  hips    item_id  \\\n",
       "82789    807722   NaN         4       4.0     d    39.0  32.0  outerwear   \n",
       "82766    807722   NaN         8       5.0     c    36.0  34.0  outerwear   \n",
       "82764    807722   NaN         4       5.0   NaN     NaN   NaN  outerwear   \n",
       "82763    807722   NaN         8       5.0     c    30.0  34.0  outerwear   \n",
       "82762    807722   NaN         8       5.0     d    36.0  36.0  outerwear   \n",
       "82760    807722   NaN        12       5.0     b    36.0  36.0  outerwear   \n",
       "82759    807722   NaN         8       4.0     c    36.0  34.0  outerwear   \n",
       "82758    807722   NaN         4       5.0     c    35.0  32.0  outerwear   \n",
       "82757    807722   NaN        12       4.0  dd/e    35.0  36.0  outerwear   \n",
       "82756    807722   NaN        12       4.0     c    38.0  34.0  outerwear   \n",
       "\n",
       "      length   quality     review_summary review_text shoe_size  shoe_width  \\\n",
       "82789    NaN       6ft    maireadsteadman  just right       fit       78305   \n",
       "82766    NaN   5ft 7in     dana_johnson_1  just right       fit       33248   \n",
       "82764    NaN   5ft 3in              Hufsa  just right       fit      475911   \n",
       "82763    NaN   5ft 1in         j.pastor19  just right       fit      747277   \n",
       "82762    NaN   5ft 4in          shara2179  just right     small      465791   \n",
       "82760    NaN  5ft 10in        kochkrystal  just right       fit      392328   \n",
       "82759    NaN   5ft 6in         angelammcq  just right       fit      905432   \n",
       "82758    NaN   5ft 8in  nicholesullivan81  just right       fit       78267   \n",
       "82757    NaN   5ft 7in              Kavya  just right       fit      374234   \n",
       "82756    NaN   5ft 5in             Stacia  just right       fit      258653   \n",
       "\n",
       "       size user_id                  user_name  \\\n",
       "82789   NaN     NaN  I love this piece. I'm re   \n",
       "82766   NaN     NaN    What a fabulous blazer!   \n",
       "82764   NaN     NaN  Perfect for work dresses.   \n",
       "82763   5.5  narrow   This jacket has shoulder   \n",
       "82762   NaN     NaN   Was a bit hard to close,   \n",
       "82760   NaN     NaN  Soft and stylish, I'm obs   \n",
       "82759   NaN     NaN            Fits perfectly!   \n",
       "82758   NaN     NaN   This jacket is adorable!   \n",
       "82757   NaN     NaN   I love how this works as   \n",
       "82756   NaN     NaN  I like how stretchy it is   \n",
       "\n",
       "                                                   waist  \n",
       "82789       I love this piece. I'm really happy with it!  \n",
       "82766  What a fabulous blazer!  It's made of a thicke...  \n",
       "82764                          Perfect for work dresses.  \n",
       "82763  This jacket has shoulder pads in it  going to ...  \n",
       "82762  Was a bit hard to close, but I was planning to...  \n",
       "82760   Soft and stylish, I'm obsessed with this jacket!  \n",
       "82759                                    Fits perfectly!  \n",
       "82758  This jacket is adorable! I purchased the white...  \n",
       "82757  I love how this works as both a professional a...  \n",
       "82756  I like how stretchy it is and the fit. I went ...  "
      ]
     },
     "execution_count": 11,
     "metadata": {},
     "output_type": "execute_result"
    }
   ],
   "source": [
    "mc_df.sort_values(by=['bra_size'], ascending=False).head(10)"
   ]
  },
  {
   "cell_type": "markdown",
   "metadata": {
    "_uuid": "3ec8bdb5989d3697676776b58d133176d12ef74b"
   },
   "source": [
    "<a id=\"7\"></a>\n",
    "## Joint Distribution of bra_size vs size\n",
    "We can visualize the distribution of bra_size vs size (bivariate) to have an understanding about the values."
   ]
  },
  {
   "cell_type": "code",
   "execution_count": 12,
   "metadata": {
    "_kg_hide-input": true,
    "_uuid": "033783bfb3a124311c3052696c110cd104f12cce"
   },
   "outputs": [
    {
     "data": {
      "image/png": "[encoded data removed]",
      "text/plain": [
       "<Figure size 1296x576 with 1 Axes>"
      ]
     },
     "metadata": {
      "needs_background": "light"
     },
     "output_type": "display_data"
    }
   ],
   "source": [
    "plt.figure(figsize=(18,8))\n",
    "plt.xlabel(\"bra_size\", fontsize=18)\n",
    "plt.ylabel(\"size\", fontsize=18)\n",
    "plt.suptitle(\"Joint distribution of bra_size vs size\", fontsize= 20)\n",
    "plt.plot(mc_df.bra_size, mc_df['size'], 'bo', alpha=0.2)\n",
    "plt.show()"
   ]
  },
  {
   "cell_type": "markdown",
   "metadata": {
    "_uuid": "9e73d7b2324d3b6fc33a7c847d5ab33c18ef7804"
   },
   "source": [
    ">We can't see any significant deviation from usual behavior for bra-size, infact for all other numerical variables as well- we can expect the 'apparent' outliers, from the boxplot, to behave similarly. Now, we 'll head to preprocessing the dataset for suitable visualizations.\n",
    "\n",
    "<a id=\"8\"></a>\n",
    "# Data Cleaning & Pre-processing\n",
    "Let's handle the variables and change the dtype to the appropriate type for each column. We define a function first for creating the distribution plot of different variables. Here, is the initial distribution of features.\n",
    "\n",
    "**Note: The final distribution plots are [below](#dist_plots).**\n",
    "\n",
    "<a id=\"9\"></a>\n",
    "### Initial Distribution of features"
   ]
  },
  {
   "cell_type": "code",
   "execution_count": null,
   "metadata": {
    "_kg_hide-input": true,
    "_uuid": "d1ea1457cda3c52fd451c2c39dcfe12d0dac185b"
   },
   "outputs": [],
   "source": [
    "def plot_dist(col, ax):\n",
    "    mc_df[col][mc_df[col].notnull()].value_counts().plot('bar', facecolor='y', ax=ax)\n",
    "    ax.set_xlabel('{}'.format(col), fontsize=20)\n",
    "    ax.set_title(\"{} on Modcloth\".format(col), fontsize= 18)\n",
    "    return ax\n",
    "\n",
    "f, ax = plt.subplots(3,3, figsize = (22,15))\n",
    "f.tight_layout(h_pad=9, w_pad=2, rect=[0, 0.03, 1, 0.93])\n",
    "cols = ['bra_size','bust', 'category', 'cup_size', 'fit', 'height', 'hips', 'length', 'quality']\n",
    "k = 0\n",
    "for i in range(3):\n",
    "    for j in range(3):\n",
    "        plot_dist(cols[k], ax[i][j])\n",
    "        k += 1\n",
    "__ = plt.suptitle(\"Initial Distributions of features\", fontsize= 25)"
   ]
  },
  {
   "cell_type": "markdown",
   "metadata": {
    "_uuid": "c2dc7e1e87c8c517abaa34edc0f1dbea305c41fe"
   },
   "source": [
    "<a id=\"10\"></a>\n",
    "### Step-by-step features processing:\n",
    "* **bra_size:** Although it looks numerical, it only ranges from 28 to 48, with most of the sizing lying around 34-38. It makes sense to convert this to *categorical* dtype. We'll fill the NA values into an 'Unknown' category. We can see above that most of the buyers have a bra-sizing of 34 or 36.\n",
    "* **bust**- We can see by looking at the values which are not null, that bust should be an integer dtype. We also need to handle a special case where bust is given as - '37-39'. We'll replace the entry of '37-39' with the mean, i.e.- 38, for analysis purposes. Now we can safely convert the dtype to int. However, considering that **roughly 86% of the bust data is missing**, eventually it was decided to remove this feature.\n",
    "* **category**- none missing; change to dtype *category*.\n",
    "* **cup size**- Change the dtype to *category* for this column. This col has around 7% missing values. Taking a look at the rows where this value is missing might hint us towards how to handle these missing values."
   ]
  },
  {
   "cell_type": "code",
   "execution_count": null,
   "metadata": {
    "_kg_hide-input": true,
    "_uuid": "ee223d46ac4cae59bef94a72d2f46e9b3d9411b1"
   },
   "outputs": [],
   "source": [
    "mc_df.bra_size = mc_df.bra_size.fillna('Unknown')\n",
    "mc_df.bra_size = mc_df.bra_size.astype('category').cat.as_ordered()\n",
    "mc_df.at[37313,'bust'] = '38'\n",
    "mc_df.bust = mc_df.bust.fillna(0).astype(int)\n",
    "mc_df.category = mc_df.category.astype('category')"
   ]
  },
  {
   "cell_type": "code",
   "execution_count": null,
   "metadata": {
    "_kg_hide-output": true,
    "_uuid": "a921aa77e0302b16d33a449b21888b38849a5976",
    "scrolled": true
   },
   "outputs": [],
   "source": [
    "mc_df[mc_df.cup_size.isnull()].sample(20)"
   ]
  },
  {
   "cell_type": "markdown",
   "metadata": {
    "_uuid": "806df50e7ebae0c3fa8296592a8566a080ec9b92"
   },
   "source": [
    ">We can't see anything glaring from the rows where this data is missing, however, as per the curator of the dataset- \"***Note that these datasets are highly sparse, with most products and customers having only a single transaction.***\" It does point to that maybe these customers have not bought lingerie from modcloth yet and so modcloth does not have that data. So, it makes sense to fill these null values as 'Unknown'. From the prevalence of the values like dd/e, ddd/f, and dddd/g, we can assume these to be legit cup_sizes, also confirmed by [**this**](https://www.herroom.com/full-figure-bra-cup-sizing,905,30.html) article, where some brands change the cup size dd to e, ddd to f etc. We can directly convert this to *category* dtype."
   ]
  },
  {
   "cell_type": "markdown",
   "metadata": {
    "_uuid": "db91371bb6c87d77d2579eb77c0d912260c6ad67"
   },
   "source": [
    "* **fit**- Change the dtype to *category* for this column. We can see that a vast majority of customers gave a good 'fit' feedback for the items on Modcloth!"
   ]
  },
  {
   "cell_type": "code",
   "execution_count": null,
   "metadata": {
    "_kg_hide-input": true,
    "_uuid": "b3d9b0dc9fd2e41d464f124c81b532e6246cba21"
   },
   "outputs": [],
   "source": [
    "mc_df.cup_size.fillna('Unknown', inplace=True)\n",
    "mc_df.cup_size = mc_df.cup_size.astype('category').cat.as_ordered()\n",
    "\n",
    "mc_df.fit = mc_df.fit.astype('category')"
   ]
  },
  {
   "cell_type": "markdown",
   "metadata": {
    "_uuid": "aed23a62601b5861862241f6a73f921d3ec3db30"
   },
   "source": [
    "* **height**- We need to parse the height column as currently it is a string object, of the form - Xft. Yin. It will make sense to convert height to cms. We also take a look at the rows where the height data is missing."
   ]
  },
  {
   "cell_type": "code",
   "execution_count": null,
   "metadata": {
    "_kg_hide-input": true,
    "_uuid": "a996e7260b78b3e3594c67b49d36db0936478289"
   },
   "outputs": [],
   "source": [
    "def get_cms(x):\n",
    "    if type(x) == type(1.0):\n",
    "        return\n",
    "    #print(x)\n",
    "    try: \n",
    "        return (int(x[0])*30.48) + (int(x[4:-2])*2.54)\n",
    "    except:\n",
    "        return (int(x[0])*30.48)\n",
    "mc_df.height = mc_df.height.apply(get_cms)"
   ]
  },
  {
   "cell_type": "code",
   "execution_count": null,
   "metadata": {
    "_kg_hide-output": true,
    "_uuid": "f93d60257e5e06e48bb93070fd308b3c206d8986",
    "scrolled": true
   },
   "outputs": [],
   "source": [
    "mc_df[mc_df.height.isnull()].head(20)\n",
    "# Do look at the output to be able to better understand the inferences!"
   ]
  },
  {
   "cell_type": "markdown",
   "metadata": {
    "_uuid": "83ce06c35d55462861a00e75efb724153106870f"
   },
   "source": [
    "> This filtering gives us interesting observations here:\n",
    "> 1. Some customers have given bra_size, cup_size data, whereas all other measurements are empty- possible first-time purchase at Modcloth for lingerie!\n",
    "> 2. Some customers have given shoe_size and all other measurements are empty- possible first-time purchase at Modcloth for shoes!\n",
    ">     \n",
    "> It leads us to saying that there are some first-time buyers in the dataset, also talked about by the authors of the data in [1]- about the sparsity of the data due to 1 transactions! Also, as we have no data about the height of these customers, it only makes sense to leave the missing values in the column as it is and **possibly remove these rows for future statistical modeling.** We have removed the corresponding rows.\n",
    ">\n",
    ">\n",
    "><a id=\"11\"></a>\n",
    "> # Feature Engineering \n",
    "> ## Creating a new feature of first_time_user\n",
    "> \n",
    "> Building on our observations above, it makes sense to identify the transactions which belong to first time users. We use the following logic to identify such trxns:\n",
    "> * If bra_size/cup_size have a value and height, hips, shoe_size, shoe_width and waist do not- it is a first time buyer of lingerie.\n",
    "> * If shoe_size/shoe_width have a value and bra_size, cup_size, height, hips, and waist do not- it is a first time buyer of shoes.\n",
    "> * If hips/waist have a value and bra_size, cup_size, height, shoe_size, and shoe_width do not- it is a first time buyer of a dress/tops.\n",
    "> \n",
    "> Below we will verify the above logic, with samples, before we create the new feature.\n",
    "> \n",
    "> **1. Looking at the few rows where either bra_size or cup_size exists, but no other measurements are available.**\n",
    ">\n",
    ">**2. Looking at the few rows where either shoe_size or shoe_width exists, but no other measurements are available.**\n",
    ">\n",
    ">**3. Looking at the few rows where either hips or waist exists, but no other measurements are available.**"
   ]
  },
  {
   "cell_type": "code",
   "execution_count": null,
   "metadata": {
    "_kg_hide-input": true,
    "_kg_hide-output": true,
    "_uuid": "e1fa8f4fb65b49602086147c1c4dece7fdc7a2cf"
   },
   "outputs": [],
   "source": [
    "print(mc_df[((mc_df.bra_size != 'Unknown') | (mc_df.cup_size != 'Unknown')) & (mc_df.height.isnull()) & (mc_df.hips.isnull()) &\n",
    "     (mc_df.shoe_size.isnull()) & (mc_df.shoe_width.isnull()) & (mc_df.waist.isnull())].head(3))\n",
    "print(mc_df[(mc_df.bra_size == 'Unknown') & (mc_df.cup_size == 'Unknown') & (mc_df.height.isnull()) & (mc_df.hips.isnull()) &\n",
    "     ((mc_df.shoe_size.notnull()) | (mc_df.shoe_width.notnull())) & (mc_df.waist.isnull())].head(3))\n",
    "print(mc_df[(mc_df.bra_size == 'Unknown') & (mc_df.cup_size == 'Unknown') & (mc_df.height.isnull()) & ((mc_df.hips.notnull()) | (mc_df.waist.notnull())) &\n",
    "     (mc_df.shoe_size.isnull()) & (mc_df.shoe_width.isnull())].head(3))"
   ]
  },
  {
   "cell_type": "markdown",
   "metadata": {
    "_uuid": "6444762751d31966aeebd91e029d93e2f96d8412"
   },
   "source": [
    ">Now we add a new column to the original data- *first_time_user*, which is a bool feature which indicates if a user, of a transaction, is a first-time user or not. This is based on the grounds that Modcloth has no previous information about the person, infact it is possible that the new user did multiple transactions in the first time!"
   ]
  },
  {
   "cell_type": "code",
   "execution_count": null,
   "metadata": {
    "_kg_hide-input": true,
    "_uuid": "182dbd7d520b00484382f717c6a2681c8e618141"
   },
   "outputs": [],
   "source": [
    "lingerie_cond = (((mc_df.bra_size != 'Unknown') | (mc_df.cup_size != 'Unknown')) & (mc_df.height.isnull()) & (mc_df.hips.isnull()) &\n",
    "     (mc_df.shoe_size.isnull()) & (mc_df.shoe_width.isnull()) & (mc_df.waist.isnull()))\n",
    "shoe_cond = ((mc_df.bra_size == 'Unknown') & (mc_df.cup_size == 'Unknown') & (mc_df.height.isnull()) & (mc_df.hips.isnull()) &\n",
    "     ((mc_df.shoe_size.notnull()) | (mc_df.shoe_width.notnull())) & (mc_df.waist.isnull()))\n",
    "dress_cond = ((mc_df.bra_size == 'Unknown') & (mc_df.cup_size == 'Unknown') & (mc_df.height.isnull()) & ((mc_df.hips.notnull()) | (mc_df.waist.notnull())) &\n",
    "     (mc_df.shoe_size.isnull()) & (mc_df.shoe_width.isnull()))\n",
    "#print(len(mc_df[lingerie_cond]))   # To check if these items add up in the final column we are adding.\n",
    "#print(len(mc_df[shoe_cond]))\n",
    "#print(len(mc_df[dress_cond]))\n",
    "mc_df['first_time_user'] = (lingerie_cond | shoe_cond | dress_cond)\n",
    "print(\"Column added!\")\n",
    "print(\"Total transactions by first time users who bought bra, shoes, or a dress: \" + str(sum(mc_df.first_time_user)))\n",
    "print(\"Total first time users: \" + str(len(mc_df[(lingerie_cond | shoe_cond | dress_cond)].user_id.unique())))"
   ]
  },
  {
   "cell_type": "markdown",
   "metadata": {
    "_uuid": "ab2f779e5a84f99d02fd837d0f436cb81981c2f3"
   },
   "source": [
    "* **hips**-\n",
    "Hips column has a lot of missing values ~ 32.28%! We know this data would possibly be missing because Modcloth never got this data from the user most probably. We cannot remove such a significant chunk of the data, so we need another way of handling this feature. We will bin the data- on the basis of quartiles.\n",
    "* **length**- There are only 35 missing rows in length, we'll take a look at these. We saw that most probably the customers did not leave behind the feedback or the data was corrupted in these rows. However, we should be able to impute these values using review related fields (if they are filled!). Or we could also simply choose to remove these rows. For the sake of this analysis, we will remove these rows.\n",
    "* **quality**- There are only 68 missing rows in quality, we'll took a look at these. Similarly to length, the customers did not leave behind the feedback or the data was corrupted in these rows. We will remove these rows and convert the dtype to an ordinal variable (ordered categorical)."
   ]
  },
  {
   "cell_type": "code",
   "execution_count": null,
   "metadata": {
    "_kg_hide-input": true,
    "_uuid": "736a8fd83468caadb92fcfd9d759642e9397f2ae"
   },
   "outputs": [],
   "source": [
    "# Handling hips column\n",
    "mc_df.hips = mc_df.hips.fillna(-1.0)\n",
    "bins = [-5,0,31,37,40,44,75]\n",
    "labels = ['Unknown','XS','S','M', 'L','XL']\n",
    "mc_df.hips = pd.cut(mc_df.hips, bins, labels=labels)\n",
    "\n",
    "# Handling length column\n",
    "missing_rows = mc_df[mc_df.length.isnull()].index\n",
    "mc_df.drop(missing_rows, axis = 0, inplace=True)\n",
    "\n",
    "# Handling quality\n",
    "missing_rows = mc_df[mc_df.quality.isnull()].index\n",
    "mc_df.drop(missing_rows, axis = 0, inplace=True)\n",
    "mc_df.quality = mc_df.quality.astype('category').cat.as_ordered()"
   ]
  },
  {
   "cell_type": "markdown",
   "metadata": {
    "_uuid": "465f1a40eefa83a79f1db021b75e8fb574791f25"
   },
   "source": [
    "* **review_summary/ review_text**- The NA values are there because these reviews are simply not provided by customers. Let's just fill those as 'Unknown'.\n",
    "* **shoe_size** -  Roughly 66.3% of the shoe_size data is missing. We will change the shoe_size into *category* dtype and fill the NA values as 'Unknown'.\n",
    "* **shoe_width** - Roughly 77.5% of the shoe_width data is missing. We will fill the NA values as 'Unknown' \n",
    "* **waist**- Waist column has the highest number of missing values - 96.5%! We will drop this column.\n",
    "* **bust**- 85.6% missing values and highly correlated to bra_size. Remove.\n",
    "* **user_name**- user_name itself is not needed with the user_id given. Remove.\n",
    "\n",
    "To convert shoe_width to an ordered category type we have to import CategoricalDType and supply the order of the categories."
   ]
  },
  {
   "cell_type": "code",
   "execution_count": null,
   "metadata": {
    "_kg_hide-input": true,
    "_kg_hide-output": false,
    "_uuid": "a1c93638fff62c5f8a1855c65aa982b788b32c6a"
   },
   "outputs": [],
   "source": [
    "from pandas.api.types import CategoricalDtype\n",
    "shoe_widths_type = CategoricalDtype(categories=['Unknown','narrow','average','wide'], ordered=True)\n",
    "\n",
    "mc_df.review_summary = mc_df.review_summary.fillna('Unknown')\n",
    "mc_df.review_text = mc_df.review_text.fillna('Unkown')\n",
    "mc_df.shoe_size = mc_df.shoe_size.fillna('Unknown')\n",
    "mc_df.shoe_size = mc_df.shoe_size.astype('category').cat.as_ordered()\n",
    "mc_df.shoe_width = mc_df.shoe_width.fillna('Unknown')\n",
    "mc_df.shoe_width = mc_df.shoe_width.astype(shoe_widths_type)\n",
    "mc_df.drop(['waist', 'bust', 'user_name'], axis=1, inplace=True)\n",
    "missing_rows = mc_df[mc_df.height.isnull()].index\n",
    "mc_df.drop(missing_rows, axis = 0, inplace=True)"
   ]
  },
  {
   "cell_type": "code",
   "execution_count": null,
   "metadata": {
    "_uuid": "e80cf9bef4d5c67bfd3d5344056cdbea2c982202"
   },
   "outputs": [],
   "source": [
    "mc_df.info()"
   ]
  },
  {
   "cell_type": "markdown",
   "metadata": {
    "_uuid": "17cd1c58dfe8132ab28a3a23262d0771f14f292e"
   },
   "source": [
    "We can see that now there are no more missing values! We can move onto visualizing and gaining more insight about the data."
   ]
  },
  {
   "cell_type": "markdown",
   "metadata": {
    "_uuid": "f3c3a9576cf59e06180ff442fd49851e51d0a2ff"
   },
   "source": [
    "<a id=\"12\"></a>\n",
    "# EDA via visualizations\n",
    "\n",
    "<a id=\"13\"></a>\n",
    "<a id='dist_plots'></a>\n",
    "## 1. Distribution of different features over Modcloth dataset"
   ]
  },
  {
   "cell_type": "code",
   "execution_count": null,
   "metadata": {
    "_kg_hide-input": true,
    "_uuid": "a3d7428e62614baf4f157e36e20b1db2bc125f06"
   },
   "outputs": [],
   "source": [
    "def plot_dist(col, ax):\n",
    "    if col != 'height':\n",
    "        mc_df[col].value_counts().plot('bar', facecolor='y', ax=ax)\n",
    "    else:\n",
    "        mc_df[col].plot('density', ax=ax, bw_method = 0.15, color='y')\n",
    "        ax.set_xlim(130,200)\n",
    "        ax.set_ylim(0, 0.07)\n",
    "    ax.set_xlabel('{}'.format(col), fontsize=18)\n",
    "    ax.set_title(\"{} on Modcloth\".format(col), fontsize= 18)\n",
    "    return ax\n",
    "\n",
    "f, ax = plt.subplots(2,4, figsize = (22,15))\n",
    "f.tight_layout(h_pad=9, w_pad=2, rect=[0, 0.03, 1, 0.93])\n",
    "cols = ['bra_size','category', 'cup_size', 'fit', 'height', 'hips', 'length', 'quality']\n",
    "k = 0\n",
    "for i in range(2):\n",
    "    for j in range(4):\n",
    "        plot_dist(cols[k], ax[i][j])\n",
    "        k += 1\n",
    "__ = plt.suptitle(\"Final Distributions of different features\", fontsize= 23)"
   ]
  },
  {
   "cell_type": "markdown",
   "metadata": {
    "_uuid": "7806ad1d954282a39611294b93286ef0040d21c7"
   },
   "source": [
    "<a id=\"14\"></a>\n",
    "## 2. Categories vs. Fit/Length/Quality\n",
    "Here, we will visualize how the items of different categories fared in terms of - fit, length, and quality. This will tell Modcloth which categories need more attention! \n",
    "\n",
    "I have plotted 2 distributions in categories here:\n",
    "\n",
    "**1. Unnormalized**- viewing the frequency counts directly- for comparison across categories. We also include the best fit, length, or quality measure in this plot.\n",
    "\n",
    "**2. Normalized** -  viewing the distribution for the category after normalizing the counts, amongst the category itself- it will help us compare what are major reason for return amongst the category itself. We exclude the best sizing & quality measures, so as to focus on the pre-dominant reasons of return per category (if any)."
   ]
  },
  {
   "cell_type": "code",
   "execution_count": null,
   "metadata": {
    "_kg_hide-input": true,
    "_uuid": "4186f84725284c59a349d7329e7560990f29bace"
   },
   "outputs": [],
   "source": [
    "def plot_barh(df,col, cmap = None, stacked=False, norm = None):\n",
    "    df.plot(kind='barh', colormap=cmap, stacked=stacked)\n",
    "    fig = plt.gcf()\n",
    "    fig.set_size_inches(24,12)\n",
    "    plt.title(\"Category vs {}-feedback -  Modcloth {}\".format(col, '(Normalized)' if norm else ''), fontsize= 20)\n",
    "    plt.ylabel('Category', fontsize = 18)\n",
    "    plot = plt.xlabel('Frequency', fontsize=18)\n",
    "    \n",
    "def norm_counts(t):\n",
    "    norms = np.linalg.norm(t.fillna(0), axis=1)\n",
    "    t_norm = t[0:0]\n",
    "    for row, euc in zip(t.iterrows(), norms):\n",
    "        t_norm.loc[row[0]] = list(map(lambda x: x/euc, list(row[1])))\n",
    "    return t_norm"
   ]
  },
  {
   "cell_type": "code",
   "execution_count": null,
   "metadata": {
    "_kg_hide-input": true,
    "_kg_hide-output": true,
    "_uuid": "be31b4588322656b16d40d14960b8b392c14c034"
   },
   "outputs": [],
   "source": [
    "mc_df.category.value_counts()"
   ]
  },
  {
   "cell_type": "markdown",
   "metadata": {
    "_uuid": "2825ba3e29290c7a8ab3d66456309a5a27d521ff"
   },
   "source": [
    "- **Category vs. Fit**"
   ]
  },
  {
   "cell_type": "code",
   "execution_count": null,
   "metadata": {
    "_kg_hide-input": true,
    "_uuid": "15f7c5ac2895b31546dd0e6a311f98e2f59f3e2c"
   },
   "outputs": [],
   "source": [
    "g_by_category = mc_df.groupby('category')\n",
    "cat_fit = g_by_category['fit'].value_counts()\n",
    "cat_fit = cat_fit.unstack()\n",
    "cat_fit_norm = norm_counts(cat_fit)\n",
    "cat_fit_norm.drop(['fit'], axis=1, inplace=True)\n",
    "plot_barh(cat_fit, 'fit')"
   ]
  },
  {
   "cell_type": "markdown",
   "metadata": {
    "_uuid": "bedf315b5e7b76915628ae4c3a8927c99eb6069f"
   },
   "source": [
    "Observations:\n",
    "* Best-fit response (*fit*) has been highest for *new, dresses, and tops* categories. \n",
    "* Overall maximum bad fit-feedback has belonged mostly to 2 categories- *new and tops*! *Dresses and bottoms* categories follow. \n",
    "* *Weddings, outerwear, and sale* are not prominent in our visualization- mostly due to the lack of transactions in these categories."
   ]
  },
  {
   "cell_type": "code",
   "execution_count": null,
   "metadata": {
    "_kg_hide-input": true,
    "_uuid": "e25d8f48184a88f604ec71938f0560f49a920c49"
   },
   "outputs": [],
   "source": [
    "plot_barh(cat_fit_norm, 'fit', norm=1, cmap='Set3')"
   ]
  },
  {
   "cell_type": "markdown",
   "metadata": {
    "_uuid": "ec2818e3e8286dbd4a39f4906318e0f9415e650c"
   },
   "source": [
    "Here, we can see that amongst the categories themselves:\n",
    "* Wedding, tops, & outerwear categories usually have more returns due to large sizing.\n",
    "* New, sale, & bottoms usually have frequent returns due to small sized buys.\n",
    "* Dresses has similar return reasons, in terms of fit."
   ]
  },
  {
   "cell_type": "markdown",
   "metadata": {
    "_uuid": "8115206e8059e0b74dc4b71d72621511d3a644d3"
   },
   "source": [
    "- **Category vs Length**"
   ]
  },
  {
   "cell_type": "code",
   "execution_count": null,
   "metadata": {
    "_kg_hide-input": true,
    "_uuid": "ec32b19f18c1de5ac894581670b71b3c68bc6f98"
   },
   "outputs": [],
   "source": [
    "cat_len = g_by_category['length'].value_counts()\n",
    "cat_len = cat_len.unstack()\n",
    "plot_barh(cat_len, 'length', 'Set3')"
   ]
  },
  {
   "cell_type": "markdown",
   "metadata": {
    "_uuid": "fca5926ad5a528f3b5113b0bc4c43b4a2850a73a"
   },
   "source": [
    "* Best length-fitting ('just right') belongs to tops, new, dresses and bottoms! (Also due to predominance of these categories in our total transactions- **they make up almost 92% of our transactions!**)\n",
    "* All transactions share a similar order of reasons for return (in the order of importance), which is kind of intuitive as well:\n",
    "    * slightly long\n",
    "    * slightly short\n",
    "    * very long\n",
    "    * very short"
   ]
  },
  {
   "cell_type": "code",
   "execution_count": null,
   "metadata": {
    "_kg_hide-input": true,
    "_uuid": "5db2211018473c9ddef2f7280087775de869065e"
   },
   "outputs": [],
   "source": [
    "cat_len_norm = norm_counts(cat_len)\n",
    "cat_len_norm.drop(['just right'], axis = 1, inplace=True)\n",
    "plot_barh(cat_len_norm, 'length', cmap='Set3', norm=1)"
   ]
  },
  {
   "cell_type": "markdown",
   "metadata": {
    "_uuid": "238cd4200ab0d770d564c4c20b933289fbd46e72"
   },
   "source": [
    "The normalized plot, focusing on the problems allows us to dig deeper into length-wise reasons of return per category:\n",
    "* Customers tend to make 'slightly long' purchases in *bottoms, new, sale, & tops* categories.\n",
    "* 'slightly short' returns take place mostly in *dresses and wedding * categories."
   ]
  },
  {
   "cell_type": "markdown",
   "metadata": {
    "_uuid": "bbb3ab640bd28e5b6b3acb9fc67b18d41acf19bd"
   },
   "source": [
    "- **Category vs Quality**"
   ]
  },
  {
   "cell_type": "code",
   "execution_count": null,
   "metadata": {
    "_kg_hide-input": true,
    "_uuid": "0384115040f3a7a3db523c6514eb7af122814252"
   },
   "outputs": [],
   "source": [
    "cat_quality = g_by_category['quality'].value_counts()\n",
    "cat_quality = cat_quality.unstack()\n",
    "plot_barh(cat_quality, 'quality', 'Set3', stacked=1)"
   ]
  },
  {
   "cell_type": "markdown",
   "metadata": {
    "_uuid": "a34e6b6036d995a1391b05190805d9d8dd478c03"
   },
   "source": [
    "* Almost the same share of people have rated the categories of *tops, new, dresses, & bottoms* as 5, 4, & 3.\n",
    "* All the trends in terms of share of ratings seems to be constant across categories."
   ]
  },
  {
   "cell_type": "code",
   "execution_count": null,
   "metadata": {
    "_kg_hide-input": true,
    "_uuid": "860f86858c68db89e5c7001d2d8a83799f5edc03"
   },
   "outputs": [],
   "source": [
    "cat_quality_norm = norm_counts(cat_quality)\n",
    "cat_quality_norm.drop([5.0], axis = 1, inplace=True)\n",
    "plot_barh(cat_quality_norm, 'quality', 'Set3', stacked=1, norm=1)"
   ]
  },
  {
   "cell_type": "markdown",
   "metadata": {
    "_uuid": "5803a4a47c7ed5a52d6797a20b7751d5f8c47d8e"
   },
   "source": [
    "* Here also we can assert our previous observation that all the categories share similar share of ratings.\n",
    "* To nitpick- *new , sale & tops* seem to have a higher share than normal of bad ratings (1.0 & 2.0) in terms of quality."
   ]
  },
  {
   "cell_type": "markdown",
   "metadata": {
    "_uuid": "b4bbc0ffe09e2eae2350990c765b4f8edc881dee"
   },
   "source": [
    "<a id=\"15\"></a>\n",
    "### 2. Total Number of Users vs Total Number of items bought\n",
    "Visualizing the total number of users who bought *x* number of items, where we affirm the author's [[1]](#references) statement that the data is very sparse with a major chunk (38.45%) of the users who bought only 1 item from the website during the time this data was collected. "
   ]
  },
  {
   "cell_type": "code",
   "execution_count": null,
   "metadata": {
    "_kg_hide-input": true,
    "_uuid": "bae1fca79ae4f68ca553b3c4a69f051102651eda"
   },
   "outputs": [],
   "source": [
    "# Users who bought so many items\n",
    "items_bought = []\n",
    "total_users = []\n",
    "for i in range(min(mc_df.user_id.value_counts()), max(mc_df.user_id.value_counts())+1):\n",
    "    all_users = sum(mc_df.user_id.value_counts() == i)\n",
    "    if all_users != 0:\n",
    "        total_users.append(all_users)\n",
    "        items_bought.append(i)\n",
    "plt.xlabel(\"Number of items bought\", fontsize = 18)\n",
    "plt.ylabel(\"Number of users\", fontsize = 18)\n",
    "plt.title(\"Distribution of items bought by users on Modcloth\")\n",
    "__ = sns.barplot(x=items_bought, y=total_users, color='y')\n",
    "fig = plt.gcf()\n",
    "fig.set_size_inches(20,10)"
   ]
  },
  {
   "cell_type": "markdown",
   "metadata": {
    "_uuid": "913fd8a7a6b1aa8eeeb6e52a4f7bb1791328ddc8"
   },
   "source": [
    "* A **major chunk of the users (~40%) have only bought 1 item from Modcloth** during the time this data was collected. Although we found only 903 out of those were first time users (no previous data existed of these customers). This explains and reaffirms the dataset curator's statement about sparsity of the data.\n",
    "* Most users bought 1, 2, or 3 products from Modcloth out of the ~80,000 transactions in this dataset."
   ]
  },
  {
   "cell_type": "markdown",
   "metadata": {
    "_uuid": "10959acc07b36401767918be8e33a19937dc68ee"
   },
   "source": [
    "<a id=\"16\"></a>\n",
    "## 3. Height vs shoe_size -  Modcloth customers\n",
    "It would be interesting to see if there exists a linear relation between the height of a person and their shoe-size, i.e.- it will mean shoe-size increases with increase in height!"
   ]
  },
  {
   "cell_type": "code",
   "execution_count": null,
   "metadata": {
    "_kg_hide-input": true,
    "_uuid": "ff6cbdacc0c79f822bbaa46b2c647bdee201f3c4"
   },
   "outputs": [],
   "source": [
    "fig = plt.gcf()\n",
    "fig.set_size_inches(20,10)\n",
    "__ = sns.violinplot(x='shoe_size', y='height',data=mc_df, size = 20)"
   ]
  },
  {
   "cell_type": "markdown",
   "metadata": {
    "_uuid": "5a4e2fa1f3cdb4f51d7cc3425c72e4fe1dda0cc6"
   },
   "source": [
    "We can see here a \"linear correlation between foot size and height\". This observation was also seen [here](https://www.statcrunch.com/5.0/viewreport.php?reportid=35115)."
   ]
  },
  {
   "cell_type": "markdown",
   "metadata": {
    "_uuid": "992efa1db79c5609486027eb814030c30cff0566"
   },
   "source": [
    "### Thank you so much reading this EDA and feel to reach out to me/comment below for questions. Please share any constructive feedback you have and if you like the work- please upvote!\n",
    "\n",
    "#### Looking forward to more Kaggling! Cheers. "
   ]
  },
  {
   "cell_type": "markdown",
   "metadata": {
    "_uuid": "7cb5eb25d1c77eb0a9291bbf86d7dd2348ea2472"
   },
   "source": [
    "<a id='references'></a>\n",
    "# References:\n",
    "    [1] Rishabh Misra, Mengting Wan, Julian McAuley Decomposing Fit Semantics for Product Size Recommendation in Metric Spaces. RecSys, 2018.\n",
    "    \n",
    "<a id='assumptions'></a>\n",
    "# Assumptions:\n",
    "The data source has been assumed as following on the Modcloth dataset: \n",
    "* item_id- from item.\n",
    "* waist- from user input.\n",
    "* size - from item.\n",
    "* quality- from user input.\n",
    "* cup size- from user input.\n",
    "* hips- from user input.\n",
    "* bra size- from user input.\n",
    "* category- from item.\n",
    "* bust- from user input.\n",
    "* height- from user input\n",
    "* user_name- from user input\n",
    "* length - from user input\n",
    "* fit- from user input\n",
    "* user_id- from user.\n",
    "\n",
    "\n",
    "*Aditya Agrawal*"
   ]
  }
 ],
 "metadata": {
  "kernelspec": {
   "display_name": "Python 3",
   "language": "python",
   "name": "python3"
  },
  "language_info": {
   "codemirror_mode": {
    "name": "ipython",
    "version": 3
   },
   "file_extension": ".py",
   "mimetype": "text/x-python",
   "name": "python",
   "nbconvert_exporter": "python",
   "pygments_lexer": "ipython3",
   "version": "3.7.4"
  }
 },
 "nbformat": 4,
 "nbformat_minor": 1
}
