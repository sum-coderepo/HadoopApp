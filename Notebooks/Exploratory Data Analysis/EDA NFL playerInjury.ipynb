{
 "cells": [
  {
   "cell_type": "code",
   "execution_count": 1,
   "metadata": {},
   "outputs": [
    {
     "name": "stdout",
     "output_type": "stream",
     "text": [
      "D:\\kaggleDatasets\\nfl-playing-surface-analytics\\InjuryRecord.csv\n",
      "D:\\kaggleDatasets\\nfl-playing-surface-analytics\\PlayerTrackData.csv\n",
      "D:\\kaggleDatasets\\nfl-playing-surface-analytics\\PlayList.csv\n"
     ]
    }
   ],
   "source": [
    "# This Python 3 environment comes with many helpful analytics libraries installed\n",
    "# It is defined by the kaggle/python docker image: https://github.com/kaggle/docker-python\n",
    "# For example, here's several helpful packages to load in \n",
    "\n",
    "import numpy as np # linear algebra\n",
    "import pandas as pd # data processing, CSV file I/O (e.g. pd.read_csv)\n",
    "import matplotlib.pyplot as plt\n",
    "import seaborn as sns\n",
    "%matplotlib inline\n",
    "# sns.set(style=\"dark\")\n",
    "\n",
    "# Input data files are available in the \"../input/\" directory.\n",
    "# For example, running this (by clicking run or pressing Shift+Enter) will list all files under the input directory\n",
    "\n",
    "import os\n",
    "for dirname, _, filenames in os.walk('D:\\\\kaggleDatasets\\\\nfl-playing-surface-analytics'):\n",
    "    for filename in filenames:\n",
    "        print(os.path.join(dirname, filename))\n"
   ]
  },
  {
   "cell_type": "code",
   "execution_count": 2,
   "metadata": {},
   "outputs": [],
   "source": [
    "PlayList = pd.read_csv('D:\\\\kaggleDatasets\\\\nfl-playing-surface-analytics\\\\PlayList.csv')\n",
    "#PlayerTrackData = pd.read_csv('D:\\\\kaggleDatasets\\\\nfl-playing-surface-analytics\\\\PlayerTrackData.csv')\n",
    "InjuryRecord = pd.read_csv('D:\\\\kaggleDatasets\\\\nfl-playing-surface-analytics\\\\InjuryRecord.csv')"
   ]
  },
  {
   "cell_type": "code",
   "execution_count": 3,
   "metadata": {},
   "outputs": [
    {
     "data": {
      "text/html": [
       "<div>\n",
       "<style scoped>\n",
       "    .dataframe tbody tr th:only-of-type {\n",
       "        vertical-align: middle;\n",
       "    }\n",
       "\n",
       "    .dataframe tbody tr th {\n",
       "        vertical-align: top;\n",
       "    }\n",
       "\n",
       "    .dataframe thead th {\n",
       "        text-align: right;\n",
       "    }\n",
       "</style>\n",
       "<table border=\"1\" class=\"dataframe\">\n",
       "  <thead>\n",
       "    <tr style=\"text-align: right;\">\n",
       "      <th></th>\n",
       "      <th>PlayerKey</th>\n",
       "      <th>GameID</th>\n",
       "      <th>PlayKey</th>\n",
       "      <th>RosterPosition</th>\n",
       "      <th>PlayerDay</th>\n",
       "      <th>PlayerGame</th>\n",
       "      <th>StadiumType</th>\n",
       "      <th>FieldType</th>\n",
       "      <th>Temperature</th>\n",
       "      <th>Weather</th>\n",
       "      <th>PlayType</th>\n",
       "      <th>PlayerGamePlay</th>\n",
       "      <th>Position</th>\n",
       "      <th>PositionGroup</th>\n",
       "    </tr>\n",
       "  </thead>\n",
       "  <tbody>\n",
       "    <tr>\n",
       "      <th>0</th>\n",
       "      <td>26624</td>\n",
       "      <td>26624-1</td>\n",
       "      <td>26624-1-1</td>\n",
       "      <td>Quarterback</td>\n",
       "      <td>1</td>\n",
       "      <td>1</td>\n",
       "      <td>Outdoor</td>\n",
       "      <td>Synthetic</td>\n",
       "      <td>63</td>\n",
       "      <td>Clear and warm</td>\n",
       "      <td>Pass</td>\n",
       "      <td>1</td>\n",
       "      <td>QB</td>\n",
       "      <td>QB</td>\n",
       "    </tr>\n",
       "    <tr>\n",
       "      <th>1</th>\n",
       "      <td>26624</td>\n",
       "      <td>26624-1</td>\n",
       "      <td>26624-1-2</td>\n",
       "      <td>Quarterback</td>\n",
       "      <td>1</td>\n",
       "      <td>1</td>\n",
       "      <td>Outdoor</td>\n",
       "      <td>Synthetic</td>\n",
       "      <td>63</td>\n",
       "      <td>Clear and warm</td>\n",
       "      <td>Pass</td>\n",
       "      <td>2</td>\n",
       "      <td>QB</td>\n",
       "      <td>QB</td>\n",
       "    </tr>\n",
       "    <tr>\n",
       "      <th>2</th>\n",
       "      <td>26624</td>\n",
       "      <td>26624-1</td>\n",
       "      <td>26624-1-3</td>\n",
       "      <td>Quarterback</td>\n",
       "      <td>1</td>\n",
       "      <td>1</td>\n",
       "      <td>Outdoor</td>\n",
       "      <td>Synthetic</td>\n",
       "      <td>63</td>\n",
       "      <td>Clear and warm</td>\n",
       "      <td>Rush</td>\n",
       "      <td>3</td>\n",
       "      <td>QB</td>\n",
       "      <td>QB</td>\n",
       "    </tr>\n",
       "    <tr>\n",
       "      <th>3</th>\n",
       "      <td>26624</td>\n",
       "      <td>26624-1</td>\n",
       "      <td>26624-1-4</td>\n",
       "      <td>Quarterback</td>\n",
       "      <td>1</td>\n",
       "      <td>1</td>\n",
       "      <td>Outdoor</td>\n",
       "      <td>Synthetic</td>\n",
       "      <td>63</td>\n",
       "      <td>Clear and warm</td>\n",
       "      <td>Rush</td>\n",
       "      <td>4</td>\n",
       "      <td>QB</td>\n",
       "      <td>QB</td>\n",
       "    </tr>\n",
       "    <tr>\n",
       "      <th>4</th>\n",
       "      <td>26624</td>\n",
       "      <td>26624-1</td>\n",
       "      <td>26624-1-5</td>\n",
       "      <td>Quarterback</td>\n",
       "      <td>1</td>\n",
       "      <td>1</td>\n",
       "      <td>Outdoor</td>\n",
       "      <td>Synthetic</td>\n",
       "      <td>63</td>\n",
       "      <td>Clear and warm</td>\n",
       "      <td>Pass</td>\n",
       "      <td>5</td>\n",
       "      <td>QB</td>\n",
       "      <td>QB</td>\n",
       "    </tr>\n",
       "  </tbody>\n",
       "</table>\n",
       "</div>"
      ],
      "text/plain": [
       "   PlayerKey   GameID    PlayKey RosterPosition  PlayerDay  PlayerGame  \\\n",
       "0      26624  26624-1  26624-1-1    Quarterback          1           1   \n",
       "1      26624  26624-1  26624-1-2    Quarterback          1           1   \n",
       "2      26624  26624-1  26624-1-3    Quarterback          1           1   \n",
       "3      26624  26624-1  26624-1-4    Quarterback          1           1   \n",
       "4      26624  26624-1  26624-1-5    Quarterback          1           1   \n",
       "\n",
       "  StadiumType  FieldType  Temperature         Weather PlayType  \\\n",
       "0     Outdoor  Synthetic           63  Clear and warm     Pass   \n",
       "1     Outdoor  Synthetic           63  Clear and warm     Pass   \n",
       "2     Outdoor  Synthetic           63  Clear and warm     Rush   \n",
       "3     Outdoor  Synthetic           63  Clear and warm     Rush   \n",
       "4     Outdoor  Synthetic           63  Clear and warm     Pass   \n",
       "\n",
       "   PlayerGamePlay Position PositionGroup  \n",
       "0               1       QB            QB  \n",
       "1               2       QB            QB  \n",
       "2               3       QB            QB  \n",
       "3               4       QB            QB  \n",
       "4               5       QB            QB  "
      ]
     },
     "execution_count": 3,
     "metadata": {},
     "output_type": "execute_result"
    }
   ],
   "source": [
    "PlayList.head()"
   ]
  },
  {
   "cell_type": "code",
   "execution_count": 4,
   "metadata": {},
   "outputs": [
    {
     "name": "stdout",
     "output_type": "stream",
     "text": [
      "<class 'pandas.core.frame.DataFrame'>\n",
      "RangeIndex: 267005 entries, 0 to 267004\n",
      "Data columns (total 14 columns):\n",
      "PlayerKey         267005 non-null int64\n",
      "GameID            267005 non-null object\n",
      "PlayKey           267005 non-null object\n",
      "RosterPosition    267005 non-null object\n",
      "PlayerDay         267005 non-null int64\n",
      "PlayerGame        267005 non-null int64\n",
      "StadiumType       250095 non-null object\n",
      "FieldType         267005 non-null object\n",
      "Temperature       267005 non-null int64\n",
      "Weather           248314 non-null object\n",
      "PlayType          266638 non-null object\n",
      "PlayerGamePlay    267005 non-null int64\n",
      "Position          267005 non-null object\n",
      "PositionGroup     267005 non-null object\n",
      "dtypes: int64(5), object(9)\n",
      "memory usage: 28.5+ MB\n"
     ]
    }
   ],
   "source": [
    "PlayList.info()"
   ]
  },
  {
   "cell_type": "code",
   "execution_count": 5,
   "metadata": {},
   "outputs": [
    {
     "data": {
      "text/plain": [
       "PlayerKey             0\n",
       "GameID                0\n",
       "PlayKey               0\n",
       "RosterPosition        0\n",
       "PlayerDay             0\n",
       "PlayerGame            0\n",
       "StadiumType       16910\n",
       "FieldType             0\n",
       "Temperature           0\n",
       "Weather           18691\n",
       "PlayType            367\n",
       "PlayerGamePlay        0\n",
       "Position              0\n",
       "PositionGroup         0\n",
       "dtype: int64"
      ]
     },
     "execution_count": 5,
     "metadata": {},
     "output_type": "execute_result"
    }
   ],
   "source": [
    "PlayList.isna().sum()"
   ]
  },
  {
   "cell_type": "code",
   "execution_count": 6,
   "metadata": {},
   "outputs": [
    {
     "data": {
      "text/html": [
       "<div>\n",
       "<style scoped>\n",
       "    .dataframe tbody tr th:only-of-type {\n",
       "        vertical-align: middle;\n",
       "    }\n",
       "\n",
       "    .dataframe tbody tr th {\n",
       "        vertical-align: top;\n",
       "    }\n",
       "\n",
       "    .dataframe thead th {\n",
       "        text-align: right;\n",
       "    }\n",
       "</style>\n",
       "<table border=\"1\" class=\"dataframe\">\n",
       "  <thead>\n",
       "    <tr style=\"text-align: right;\">\n",
       "      <th></th>\n",
       "      <th>PlayerKey</th>\n",
       "      <th>GameID</th>\n",
       "      <th>PlayKey</th>\n",
       "      <th>RosterPosition</th>\n",
       "      <th>PlayerDay</th>\n",
       "      <th>PlayerGame</th>\n",
       "      <th>StadiumType</th>\n",
       "      <th>FieldType</th>\n",
       "      <th>Temperature</th>\n",
       "      <th>Weather</th>\n",
       "      <th>PlayType</th>\n",
       "      <th>PlayerGamePlay</th>\n",
       "      <th>Position</th>\n",
       "      <th>PositionGroup</th>\n",
       "    </tr>\n",
       "  </thead>\n",
       "  <tbody>\n",
       "    <tr>\n",
       "      <th>count</th>\n",
       "      <td>267005.000000</td>\n",
       "      <td>267005</td>\n",
       "      <td>267005</td>\n",
       "      <td>267005</td>\n",
       "      <td>267005.000000</td>\n",
       "      <td>267005.000000</td>\n",
       "      <td>250095</td>\n",
       "      <td>267005</td>\n",
       "      <td>267005.000000</td>\n",
       "      <td>248314</td>\n",
       "      <td>266638</td>\n",
       "      <td>267005.000000</td>\n",
       "      <td>267005</td>\n",
       "      <td>267005</td>\n",
       "    </tr>\n",
       "    <tr>\n",
       "      <th>unique</th>\n",
       "      <td>NaN</td>\n",
       "      <td>5712</td>\n",
       "      <td>267005</td>\n",
       "      <td>10</td>\n",
       "      <td>NaN</td>\n",
       "      <td>NaN</td>\n",
       "      <td>29</td>\n",
       "      <td>2</td>\n",
       "      <td>NaN</td>\n",
       "      <td>63</td>\n",
       "      <td>11</td>\n",
       "      <td>NaN</td>\n",
       "      <td>23</td>\n",
       "      <td>10</td>\n",
       "    </tr>\n",
       "    <tr>\n",
       "      <th>top</th>\n",
       "      <td>NaN</td>\n",
       "      <td>42413-21</td>\n",
       "      <td>44860-12-54</td>\n",
       "      <td>Linebacker</td>\n",
       "      <td>NaN</td>\n",
       "      <td>NaN</td>\n",
       "      <td>Outdoor</td>\n",
       "      <td>Natural</td>\n",
       "      <td>NaN</td>\n",
       "      <td>Cloudy</td>\n",
       "      <td>Pass</td>\n",
       "      <td>NaN</td>\n",
       "      <td>WR</td>\n",
       "      <td>DB</td>\n",
       "    </tr>\n",
       "    <tr>\n",
       "      <th>freq</th>\n",
       "      <td>NaN</td>\n",
       "      <td>102</td>\n",
       "      <td>1</td>\n",
       "      <td>50129</td>\n",
       "      <td>NaN</td>\n",
       "      <td>NaN</td>\n",
       "      <td>145032</td>\n",
       "      <td>156902</td>\n",
       "      <td>NaN</td>\n",
       "      <td>60705</td>\n",
       "      <td>138079</td>\n",
       "      <td>NaN</td>\n",
       "      <td>43457</td>\n",
       "      <td>68295</td>\n",
       "    </tr>\n",
       "    <tr>\n",
       "      <th>mean</th>\n",
       "      <td>41515.381465</td>\n",
       "      <td>NaN</td>\n",
       "      <td>NaN</td>\n",
       "      <td>NaN</td>\n",
       "      <td>210.451351</td>\n",
       "      <td>13.799131</td>\n",
       "      <td>NaN</td>\n",
       "      <td>NaN</td>\n",
       "      <td>-35.029535</td>\n",
       "      <td>NaN</td>\n",
       "      <td>NaN</td>\n",
       "      <td>29.058647</td>\n",
       "      <td>NaN</td>\n",
       "      <td>NaN</td>\n",
       "    </tr>\n",
       "    <tr>\n",
       "      <th>std</th>\n",
       "      <td>4125.858924</td>\n",
       "      <td>NaN</td>\n",
       "      <td>NaN</td>\n",
       "      <td>NaN</td>\n",
       "      <td>183.643654</td>\n",
       "      <td>8.342894</td>\n",
       "      <td>NaN</td>\n",
       "      <td>NaN</td>\n",
       "      <td>304.583110</td>\n",
       "      <td>NaN</td>\n",
       "      <td>NaN</td>\n",
       "      <td>19.626551</td>\n",
       "      <td>NaN</td>\n",
       "      <td>NaN</td>\n",
       "    </tr>\n",
       "    <tr>\n",
       "      <th>min</th>\n",
       "      <td>26624.000000</td>\n",
       "      <td>NaN</td>\n",
       "      <td>NaN</td>\n",
       "      <td>NaN</td>\n",
       "      <td>-62.000000</td>\n",
       "      <td>1.000000</td>\n",
       "      <td>NaN</td>\n",
       "      <td>NaN</td>\n",
       "      <td>-999.000000</td>\n",
       "      <td>NaN</td>\n",
       "      <td>NaN</td>\n",
       "      <td>1.000000</td>\n",
       "      <td>NaN</td>\n",
       "      <td>NaN</td>\n",
       "    </tr>\n",
       "    <tr>\n",
       "      <th>25%</th>\n",
       "      <td>39653.000000</td>\n",
       "      <td>NaN</td>\n",
       "      <td>NaN</td>\n",
       "      <td>NaN</td>\n",
       "      <td>43.000000</td>\n",
       "      <td>7.000000</td>\n",
       "      <td>NaN</td>\n",
       "      <td>NaN</td>\n",
       "      <td>44.000000</td>\n",
       "      <td>NaN</td>\n",
       "      <td>NaN</td>\n",
       "      <td>13.000000</td>\n",
       "      <td>NaN</td>\n",
       "      <td>NaN</td>\n",
       "    </tr>\n",
       "    <tr>\n",
       "      <th>50%</th>\n",
       "      <td>42432.000000</td>\n",
       "      <td>NaN</td>\n",
       "      <td>NaN</td>\n",
       "      <td>NaN</td>\n",
       "      <td>102.000000</td>\n",
       "      <td>13.000000</td>\n",
       "      <td>NaN</td>\n",
       "      <td>NaN</td>\n",
       "      <td>61.000000</td>\n",
       "      <td>NaN</td>\n",
       "      <td>NaN</td>\n",
       "      <td>26.000000</td>\n",
       "      <td>NaN</td>\n",
       "      <td>NaN</td>\n",
       "    </tr>\n",
       "    <tr>\n",
       "      <th>75%</th>\n",
       "      <td>44480.000000</td>\n",
       "      <td>NaN</td>\n",
       "      <td>NaN</td>\n",
       "      <td>NaN</td>\n",
       "      <td>400.000000</td>\n",
       "      <td>20.000000</td>\n",
       "      <td>NaN</td>\n",
       "      <td>NaN</td>\n",
       "      <td>72.000000</td>\n",
       "      <td>NaN</td>\n",
       "      <td>NaN</td>\n",
       "      <td>43.000000</td>\n",
       "      <td>NaN</td>\n",
       "      <td>NaN</td>\n",
       "    </tr>\n",
       "    <tr>\n",
       "      <th>max</th>\n",
       "      <td>47888.000000</td>\n",
       "      <td>NaN</td>\n",
       "      <td>NaN</td>\n",
       "      <td>NaN</td>\n",
       "      <td>480.000000</td>\n",
       "      <td>32.000000</td>\n",
       "      <td>NaN</td>\n",
       "      <td>NaN</td>\n",
       "      <td>97.000000</td>\n",
       "      <td>NaN</td>\n",
       "      <td>NaN</td>\n",
       "      <td>102.000000</td>\n",
       "      <td>NaN</td>\n",
       "      <td>NaN</td>\n",
       "    </tr>\n",
       "  </tbody>\n",
       "</table>\n",
       "</div>"
      ],
      "text/plain": [
       "            PlayerKey    GameID      PlayKey RosterPosition      PlayerDay  \\\n",
       "count   267005.000000    267005       267005         267005  267005.000000   \n",
       "unique            NaN      5712       267005             10            NaN   \n",
       "top               NaN  42413-21  44860-12-54     Linebacker            NaN   \n",
       "freq              NaN       102            1          50129            NaN   \n",
       "mean     41515.381465       NaN          NaN            NaN     210.451351   \n",
       "std       4125.858924       NaN          NaN            NaN     183.643654   \n",
       "min      26624.000000       NaN          NaN            NaN     -62.000000   \n",
       "25%      39653.000000       NaN          NaN            NaN      43.000000   \n",
       "50%      42432.000000       NaN          NaN            NaN     102.000000   \n",
       "75%      44480.000000       NaN          NaN            NaN     400.000000   \n",
       "max      47888.000000       NaN          NaN            NaN     480.000000   \n",
       "\n",
       "           PlayerGame StadiumType FieldType    Temperature Weather PlayType  \\\n",
       "count   267005.000000      250095    267005  267005.000000  248314   266638   \n",
       "unique            NaN          29         2            NaN      63       11   \n",
       "top               NaN     Outdoor   Natural            NaN  Cloudy     Pass   \n",
       "freq              NaN      145032    156902            NaN   60705   138079   \n",
       "mean        13.799131         NaN       NaN     -35.029535     NaN      NaN   \n",
       "std          8.342894         NaN       NaN     304.583110     NaN      NaN   \n",
       "min          1.000000         NaN       NaN    -999.000000     NaN      NaN   \n",
       "25%          7.000000         NaN       NaN      44.000000     NaN      NaN   \n",
       "50%         13.000000         NaN       NaN      61.000000     NaN      NaN   \n",
       "75%         20.000000         NaN       NaN      72.000000     NaN      NaN   \n",
       "max         32.000000         NaN       NaN      97.000000     NaN      NaN   \n",
       "\n",
       "        PlayerGamePlay Position PositionGroup  \n",
       "count    267005.000000   267005        267005  \n",
       "unique             NaN       23            10  \n",
       "top                NaN       WR            DB  \n",
       "freq               NaN    43457         68295  \n",
       "mean         29.058647      NaN           NaN  \n",
       "std          19.626551      NaN           NaN  \n",
       "min           1.000000      NaN           NaN  \n",
       "25%          13.000000      NaN           NaN  \n",
       "50%          26.000000      NaN           NaN  \n",
       "75%          43.000000      NaN           NaN  \n",
       "max         102.000000      NaN           NaN  "
      ]
     },
     "execution_count": 6,
     "metadata": {},
     "output_type": "execute_result"
    }
   ],
   "source": [
    "PlayList.describe(include='all')"
   ]
  },
  {
   "cell_type": "code",
   "execution_count": 7,
   "metadata": {},
   "outputs": [
    {
     "data": {
      "text/plain": [
       "Linebacker           50129\n",
       "Offensive Lineman    47413\n",
       "Wide Receiver        43391\n",
       "Safety               39387\n",
       "Defensive Lineman    30588\n",
       "Cornerback           28987\n",
       "Running Back         11664\n",
       "Tight End             7752\n",
       "Quarterback           6986\n",
       "Kicker                 708\n",
       "Name: RosterPosition, dtype: int64"
      ]
     },
     "execution_count": 7,
     "metadata": {},
     "output_type": "execute_result"
    }
   ],
   "source": [
    "PlayList.RosterPosition.value_counts()"
   ]
  },
  {
   "cell_type": "code",
   "execution_count": 8,
   "metadata": {},
   "outputs": [],
   "source": [
    "def bar_lables(var, tit, df, size=1):\n",
    "    f, ax = plt.subplots(1, 1, figsize=(4*size, 5))\n",
    "    total = float(len(df))\n",
    "    g = sns.countplot(df[var], order=df[var].value_counts().index, palette='Blues', edgecolor='Navy')\n",
    "    g.set_title(f\"Count per {tit}\", fontsize=20)\n",
    "    ax.set_xticklabels(ax.get_xticklabels(), rotation=40, ha='right', fontsize=10)\n",
    "    for p in ax.patches:\n",
    "        height = p.get_height()\n",
    "        ax.text(p.get_x() + p.get_width()/2.,\n",
    "                height + 3,\n",
    "                '{:1.2f}%'.format(100*height/total), ha='center', fontsize=10)"
   ]
  },
  {
   "cell_type": "code",
   "execution_count": 9,
   "metadata": {},
   "outputs": [
    {
     "data": {
      "image/png": "[encoded data removed]",
      "text/plain": [
       "<Figure size 1152x360 with 1 Axes>"
      ]
     },
     "metadata": {
      "needs_background": "light"
     },
     "output_type": "display_data"
    }
   ],
   "source": [
    "bar_lables('RosterPosition', 'Position', PlayList, size=4)"
   ]
  },
  {
   "cell_type": "code",
   "execution_count": 10,
   "metadata": {},
   "outputs": [
    {
     "data": {
      "text/plain": [
       "Outdoor                   145032\n",
       "Outdoors                   32956\n",
       "Indoors                    22805\n",
       "Dome                        9376\n",
       "Retractable Roof            8914\n",
       "Indoor                      6892\n",
       "Open                        4124\n",
       "Domed, closed               3076\n",
       "Retr. Roof - Closed         2235\n",
       "Retr. Roof-Closed           2015\n",
       "Domed, open                 1779\n",
       "Dome, closed                1059\n",
       "Closed Dome                 1011\n",
       "Domed                        985\n",
       "Oudoor                       914\n",
       "Domed, Open                  807\n",
       "Ourdoor                      778\n",
       "Outdoor Retr Roof-Open       601\n",
       "Outddors                     595\n",
       "Indoor, Roof Closed          547\n",
       "Retr. Roof-Open              486\n",
       "Retr. Roof - Open            486\n",
       "Indoor, Open Roof            479\n",
       "Bowl                         465\n",
       "Retr. Roof Closed            414\n",
       "Heinz Field                  389\n",
       "Outdor                       356\n",
       "Outside                      341\n",
       "Cloudy                       178\n",
       "Name: StadiumType, dtype: int64"
      ]
     },
     "execution_count": 10,
     "metadata": {},
     "output_type": "execute_result"
    }
   ],
   "source": [
    "PlayList.StadiumType.value_counts()"
   ]
  },
  {
   "cell_type": "code",
   "execution_count": 11,
   "metadata": {},
   "outputs": [],
   "source": [
    " List_Sta_typ = PlayList[\"StadiumType\"].astype(str).str.strip().str.lower().unique()\n",
    "# print(List_Sta_typ)\n",
    "\n",
    "List_initials = []\n",
    "\n",
    "for i in range(len(List_Sta_typ)):\n",
    "    List_initials.append(List_Sta_typ[i][0:3])"
   ]
  },
  {
   "cell_type": "code",
   "execution_count": 12,
   "metadata": {},
   "outputs": [
    {
     "name": "stdout",
     "output_type": "stream",
     "text": [
      "Initial: nan\n",
      "[]\n",
      "\n",
      "Initial: oud\n",
      "['Oudoor']\n",
      "\n",
      "Initial: out\n",
      "['Outdoor' 'Outdoors' 'Outdoor Retr Roof-Open' 'Outddors' 'Outdor'\n",
      " 'Outside']\n",
      "\n",
      "Initial: bow\n",
      "['Bowl']\n",
      "\n",
      "Initial: our\n",
      "['Ourdoor']\n",
      "\n",
      "Initial: ope\n",
      "['Open']\n",
      "\n",
      "Initial: ret\n",
      "['Retr. Roof-Closed' 'Retractable Roof' 'Retr. Roof - Closed'\n",
      " 'Retr. Roof-Open' 'Retr. Roof - Open' 'Retr. Roof Closed']\n",
      "\n",
      "Initial: clo\n",
      "['Closed Dome' 'Cloudy']\n",
      "\n",
      "Initial: ind\n",
      "['Indoors' 'Indoor' 'Indoor, Roof Closed' 'Indoor, Open Roof']\n",
      "\n",
      "Initial: hei\n",
      "['Heinz Field']\n",
      "\n",
      "Initial: dom\n",
      "['Domed, closed' 'Dome' 'Domed' 'Dome, closed' 'Domed, Open' 'Domed, open']\n",
      "\n"
     ]
    }
   ],
   "source": [
    "List_initials = set(List_initials)\n",
    "\n",
    "for j in List_initials:\n",
    "    print(f\"Initial: {j}\")\n",
    "    print(PlayList[PlayList[\"StadiumType\"].fillna(\"\").str.lower().str.startswith(j)].StadiumType.unique())\n",
    "    print()"
   ]
  },
  {
   "cell_type": "code",
   "execution_count": 13,
   "metadata": {},
   "outputs": [],
   "source": [
    "outdoor = ['Outdoor', 'Outdoors', 'Cloudy', 'Heinz Field', \n",
    "              'Outdor', 'Ourdoor', 'Outside', 'Outddors', \n",
    "              'Outdoor Retr Roof-Open', 'Oudoor', 'Bowl']\n",
    "\n",
    "indoor_closed = ['Indoors', 'Indoor', 'Indoor, Roof Closed', 'Indoor, Roof Closed',\n",
    "                   'Retractable Roof', 'Retr. Roof-Closed', 'Retr. Roof - Closed', 'Retr. Roof Closed']\n",
    "\n",
    "indoor_open = ['Indoor, Open Roof', 'Open', 'Retr. Roof-Open', 'Retr. Roof - Open']\n",
    "\n",
    "dome_closed = ['Dome', 'Domed, closed', 'Closed Dome', 'Domed', 'Dome, closed']\n",
    "\n",
    "dome_open = ['Domed, Open', 'Domed, open']\n",
    "\n",
    "List_Types_Stat = [outdoor, indoor_closed, indoor_open, dome_closed, dome_open]"
   ]
  },
  {
   "cell_type": "code",
   "execution_count": 14,
   "metadata": {},
   "outputs": [],
   "source": [
    "conditions_stadium = [PlayList['StadiumType'].isin(outdoor),\n",
    "                      PlayList['StadiumType'].isin(indoor_closed),\n",
    "                      PlayList['StadiumType'].isin(indoor_open),\n",
    "                      PlayList['StadiumType'].isin(dome_closed),\n",
    "                      PlayList['StadiumType'].isin(dome_open)]\n",
    "\n",
    "List_Types_Stat_name = [\"outdoor\", \"indoor_closed\", \"indoor_opened\", \"dome_closed\", \"dome_opened\"]\n",
    "\n",
    "PlayList['StadiumType_cl'] = np.select(conditions_stadium, List_Types_Stat_name, default='others')"
   ]
  },
  {
   "cell_type": "code",
   "execution_count": 15,
   "metadata": {},
   "outputs": [
    {
     "data": {
      "text/plain": [
       "array(['outdoor', 'indoor_closed', 'indoor_opened', 'dome_closed',\n",
       "       'others', 'dome_opened'], dtype=object)"
      ]
     },
     "execution_count": 15,
     "metadata": {},
     "output_type": "execute_result"
    }
   ],
   "source": [
    "PlayList['StadiumType_cl'].unique() # Cleaned data for Stadium Type"
   ]
  },
  {
   "cell_type": "code",
   "execution_count": 16,
   "metadata": {},
   "outputs": [
    {
     "data": {
      "image/png": "[encoded data removed]",
      "text/plain": [
       "<Figure size 1152x360 with 1 Axes>"
      ]
     },
     "metadata": {
      "needs_background": "light"
     },
     "output_type": "display_data"
    }
   ],
   "source": [
    "# plt.figure(figsize=(10,6))\n",
    "# ax = sns.countplot(x='StadiumType_cl', order=PlayList.StadiumType_cl.value_counts().index, data=PlayList)\n",
    "# ax.set_xticklabels(ax.get_xticklabels(), rotation=40, ha='right')\n",
    "# plt.title(\"Qty per Stadium Type\")\n",
    "# plt.tight_layout()\n",
    "\n",
    "bar_lables('StadiumType_cl', 'Statium Type', PlayList, size=4)"
   ]
  },
  {
   "cell_type": "code",
   "execution_count": 17,
   "metadata": {},
   "outputs": [
    {
     "data": {
      "text/plain": [
       "Natural      58.763694\n",
       "Synthetic    41.236306\n",
       "Name: FieldType, dtype: float64"
      ]
     },
     "execution_count": 17,
     "metadata": {},
     "output_type": "execute_result"
    }
   ],
   "source": [
    "PlayList['FieldType'].value_counts(normalize=True) * 100"
   ]
  },
  {
   "cell_type": "code",
   "execution_count": 18,
   "metadata": {},
   "outputs": [
    {
     "data": {
      "image/png": "[encoded data removed]",
      "text/plain": [
       "<Figure size 432x288 with 1 Axes>"
      ]
     },
     "metadata": {},
     "output_type": "display_data"
    }
   ],
   "source": [
    "# # sns.countplot(x='FieldType', data = PlayList)\n",
    "# # plt.title(\"Qty per FieldType\")\n",
    "\n",
    "# bar_lables('FieldType', 'Field Type', PlayList)\n",
    "\n",
    "colors = ['royalblue', 'cornflowerblue']\n",
    "\n",
    "PlayList.FieldType.str.get_dummies().sum().plot.pie(label='FieldType', \n",
    "                                                    autopct='%1.0f%%', \n",
    "                                                    colors=colors, startangle=90, fontsize=15)\n",
    "plt.axis('equal');"
   ]
  },
  {
   "cell_type": "code",
   "execution_count": 19,
   "metadata": {},
   "outputs": [
    {
     "data": {
      "text/plain": [
       "<seaborn.axisgrid.FacetGrid at 0x1c761a6ce88>"
      ]
     },
     "execution_count": 19,
     "metadata": {},
     "output_type": "execute_result"
    },
    {
     "data": {
      "image/png": "[encoded data removed]",
      "text/plain": [
       "<Figure size 604.8x432 with 2 Axes>"
      ]
     },
     "metadata": {
      "needs_background": "light"
     },
     "output_type": "display_data"
    }
   ],
   "source": [
    "# plt.figure(figsize=(10,8))\n",
    "# sns.countplot(x='FieldType', hue='StadiumType_cl', data = PlayList)\n",
    "\n",
    "g = sns.catplot(x='StadiumType_cl', col='FieldType', data=PlayList, kind='count',\n",
    "                height=6, palette='Blues', aspect=.7)\n",
    "g.set_xticklabels(rotation=45)"
   ]
  },
  {
   "cell_type": "code",
   "execution_count": 20,
   "metadata": {},
   "outputs": [
    {
     "data": {
      "text/html": [
       "<div>\n",
       "<style scoped>\n",
       "    .dataframe tbody tr th:only-of-type {\n",
       "        vertical-align: middle;\n",
       "    }\n",
       "\n",
       "    .dataframe tbody tr th {\n",
       "        vertical-align: top;\n",
       "    }\n",
       "\n",
       "    .dataframe thead th {\n",
       "        text-align: right;\n",
       "    }\n",
       "</style>\n",
       "<table border=\"1\" class=\"dataframe\">\n",
       "  <thead>\n",
       "    <tr style=\"text-align: right;\">\n",
       "      <th></th>\n",
       "      <th>PlayerKey</th>\n",
       "      <th>GameID</th>\n",
       "      <th>PlayKey</th>\n",
       "      <th>BodyPart</th>\n",
       "      <th>Surface</th>\n",
       "      <th>DM_M1</th>\n",
       "      <th>DM_M7</th>\n",
       "      <th>DM_M28</th>\n",
       "      <th>DM_M42</th>\n",
       "    </tr>\n",
       "  </thead>\n",
       "  <tbody>\n",
       "    <tr>\n",
       "      <th>0</th>\n",
       "      <td>39873</td>\n",
       "      <td>39873-4</td>\n",
       "      <td>39873-4-32</td>\n",
       "      <td>Knee</td>\n",
       "      <td>Synthetic</td>\n",
       "      <td>1</td>\n",
       "      <td>1</td>\n",
       "      <td>1</td>\n",
       "      <td>1</td>\n",
       "    </tr>\n",
       "    <tr>\n",
       "      <th>1</th>\n",
       "      <td>46074</td>\n",
       "      <td>46074-7</td>\n",
       "      <td>46074-7-26</td>\n",
       "      <td>Knee</td>\n",
       "      <td>Natural</td>\n",
       "      <td>1</td>\n",
       "      <td>1</td>\n",
       "      <td>0</td>\n",
       "      <td>0</td>\n",
       "    </tr>\n",
       "    <tr>\n",
       "      <th>2</th>\n",
       "      <td>36557</td>\n",
       "      <td>36557-1</td>\n",
       "      <td>36557-1-70</td>\n",
       "      <td>Ankle</td>\n",
       "      <td>Synthetic</td>\n",
       "      <td>1</td>\n",
       "      <td>1</td>\n",
       "      <td>1</td>\n",
       "      <td>1</td>\n",
       "    </tr>\n",
       "    <tr>\n",
       "      <th>3</th>\n",
       "      <td>46646</td>\n",
       "      <td>46646-3</td>\n",
       "      <td>46646-3-30</td>\n",
       "      <td>Ankle</td>\n",
       "      <td>Natural</td>\n",
       "      <td>1</td>\n",
       "      <td>0</td>\n",
       "      <td>0</td>\n",
       "      <td>0</td>\n",
       "    </tr>\n",
       "    <tr>\n",
       "      <th>4</th>\n",
       "      <td>43532</td>\n",
       "      <td>43532-5</td>\n",
       "      <td>43532-5-69</td>\n",
       "      <td>Ankle</td>\n",
       "      <td>Synthetic</td>\n",
       "      <td>1</td>\n",
       "      <td>1</td>\n",
       "      <td>1</td>\n",
       "      <td>1</td>\n",
       "    </tr>\n",
       "  </tbody>\n",
       "</table>\n",
       "</div>"
      ],
      "text/plain": [
       "   PlayerKey   GameID     PlayKey BodyPart    Surface  DM_M1  DM_M7  DM_M28  \\\n",
       "0      39873  39873-4  39873-4-32     Knee  Synthetic      1      1       1   \n",
       "1      46074  46074-7  46074-7-26     Knee    Natural      1      1       0   \n",
       "2      36557  36557-1  36557-1-70    Ankle  Synthetic      1      1       1   \n",
       "3      46646  46646-3  46646-3-30    Ankle    Natural      1      0       0   \n",
       "4      43532  43532-5  43532-5-69    Ankle  Synthetic      1      1       1   \n",
       "\n",
       "   DM_M42  \n",
       "0       1  \n",
       "1       0  \n",
       "2       1  \n",
       "3       0  \n",
       "4       1  "
      ]
     },
     "execution_count": 20,
     "metadata": {},
     "output_type": "execute_result"
    }
   ],
   "source": [
    "InjuryRecord.head()"
   ]
  },
  {
   "cell_type": "code",
   "execution_count": 21,
   "metadata": {},
   "outputs": [
    {
     "data": {
      "text/plain": [
       "Knee     48\n",
       "Ankle    42\n",
       "Foot      7\n",
       "Toes      7\n",
       "Heel      1\n",
       "Name: BodyPart, dtype: int64"
      ]
     },
     "execution_count": 21,
     "metadata": {},
     "output_type": "execute_result"
    }
   ],
   "source": [
    "InjuryRecord['BodyPart'].value_counts()"
   ]
  },
  {
   "cell_type": "code",
   "execution_count": 22,
   "metadata": {},
   "outputs": [
    {
     "data": {
      "image/png": "[encoded data removed]",
      "text/plain": [
       "<Figure size 720x432 with 1 Axes>"
      ]
     },
     "metadata": {
      "needs_background": "light"
     },
     "output_type": "display_data"
    }
   ],
   "source": [
    "plt.figure(figsize=(10,6))\n",
    "ax = sns.countplot(x='BodyPart', order=InjuryRecord.BodyPart.value_counts().index, data=InjuryRecord, palette='Blues')\n",
    "ax.set_xticklabels(ax.get_xticklabels(), rotation=40, ha='right')\n",
    "plt.title(\"Qty per Body Part\")\n",
    "plt.tight_layout()"
   ]
  },
  {
   "cell_type": "code",
   "execution_count": 23,
   "metadata": {},
   "outputs": [
    {
     "data": {
      "text/html": [
       "<div>\n",
       "<style scoped>\n",
       "    .dataframe tbody tr th:only-of-type {\n",
       "        vertical-align: middle;\n",
       "    }\n",
       "\n",
       "    .dataframe tbody tr th {\n",
       "        vertical-align: top;\n",
       "    }\n",
       "\n",
       "    .dataframe thead th {\n",
       "        text-align: right;\n",
       "    }\n",
       "</style>\n",
       "<table border=\"1\" class=\"dataframe\">\n",
       "  <thead>\n",
       "    <tr style=\"text-align: right;\">\n",
       "      <th></th>\n",
       "      <th>PlayerKey</th>\n",
       "      <th>GameID</th>\n",
       "      <th>PlayKey</th>\n",
       "      <th>BodyPart</th>\n",
       "      <th>Surface</th>\n",
       "      <th>DM_M1</th>\n",
       "      <th>DM_M7</th>\n",
       "      <th>DM_M28</th>\n",
       "      <th>DM_M42</th>\n",
       "    </tr>\n",
       "  </thead>\n",
       "  <tbody>\n",
       "    <tr>\n",
       "      <th>0</th>\n",
       "      <td>39873</td>\n",
       "      <td>39873-4</td>\n",
       "      <td>39873-4-32</td>\n",
       "      <td>Knee</td>\n",
       "      <td>Synthetic</td>\n",
       "      <td>1</td>\n",
       "      <td>1</td>\n",
       "      <td>1</td>\n",
       "      <td>1</td>\n",
       "    </tr>\n",
       "    <tr>\n",
       "      <th>1</th>\n",
       "      <td>46074</td>\n",
       "      <td>46074-7</td>\n",
       "      <td>46074-7-26</td>\n",
       "      <td>Knee</td>\n",
       "      <td>Natural</td>\n",
       "      <td>1</td>\n",
       "      <td>1</td>\n",
       "      <td>0</td>\n",
       "      <td>0</td>\n",
       "    </tr>\n",
       "    <tr>\n",
       "      <th>2</th>\n",
       "      <td>36557</td>\n",
       "      <td>36557-1</td>\n",
       "      <td>36557-1-70</td>\n",
       "      <td>Ankle</td>\n",
       "      <td>Synthetic</td>\n",
       "      <td>1</td>\n",
       "      <td>1</td>\n",
       "      <td>1</td>\n",
       "      <td>1</td>\n",
       "    </tr>\n",
       "    <tr>\n",
       "      <th>3</th>\n",
       "      <td>46646</td>\n",
       "      <td>46646-3</td>\n",
       "      <td>46646-3-30</td>\n",
       "      <td>Ankle</td>\n",
       "      <td>Natural</td>\n",
       "      <td>1</td>\n",
       "      <td>0</td>\n",
       "      <td>0</td>\n",
       "      <td>0</td>\n",
       "    </tr>\n",
       "    <tr>\n",
       "      <th>4</th>\n",
       "      <td>43532</td>\n",
       "      <td>43532-5</td>\n",
       "      <td>43532-5-69</td>\n",
       "      <td>Ankle</td>\n",
       "      <td>Synthetic</td>\n",
       "      <td>1</td>\n",
       "      <td>1</td>\n",
       "      <td>1</td>\n",
       "      <td>1</td>\n",
       "    </tr>\n",
       "    <tr>\n",
       "      <th>...</th>\n",
       "      <td>...</td>\n",
       "      <td>...</td>\n",
       "      <td>...</td>\n",
       "      <td>...</td>\n",
       "      <td>...</td>\n",
       "      <td>...</td>\n",
       "      <td>...</td>\n",
       "      <td>...</td>\n",
       "      <td>...</td>\n",
       "    </tr>\n",
       "    <tr>\n",
       "      <th>100</th>\n",
       "      <td>44423</td>\n",
       "      <td>44423-13</td>\n",
       "      <td>NaN</td>\n",
       "      <td>Knee</td>\n",
       "      <td>Synthetic</td>\n",
       "      <td>1</td>\n",
       "      <td>0</td>\n",
       "      <td>0</td>\n",
       "      <td>0</td>\n",
       "    </tr>\n",
       "    <tr>\n",
       "      <th>101</th>\n",
       "      <td>31933</td>\n",
       "      <td>31933-20</td>\n",
       "      <td>NaN</td>\n",
       "      <td>Knee</td>\n",
       "      <td>Synthetic</td>\n",
       "      <td>1</td>\n",
       "      <td>0</td>\n",
       "      <td>0</td>\n",
       "      <td>0</td>\n",
       "    </tr>\n",
       "    <tr>\n",
       "      <th>102</th>\n",
       "      <td>47285</td>\n",
       "      <td>47285-4</td>\n",
       "      <td>NaN</td>\n",
       "      <td>Knee</td>\n",
       "      <td>Natural</td>\n",
       "      <td>1</td>\n",
       "      <td>1</td>\n",
       "      <td>0</td>\n",
       "      <td>0</td>\n",
       "    </tr>\n",
       "    <tr>\n",
       "      <th>103</th>\n",
       "      <td>37068</td>\n",
       "      <td>37068-19</td>\n",
       "      <td>NaN</td>\n",
       "      <td>Knee</td>\n",
       "      <td>Natural</td>\n",
       "      <td>1</td>\n",
       "      <td>1</td>\n",
       "      <td>0</td>\n",
       "      <td>0</td>\n",
       "    </tr>\n",
       "    <tr>\n",
       "      <th>104</th>\n",
       "      <td>36696</td>\n",
       "      <td>36696-24</td>\n",
       "      <td>NaN</td>\n",
       "      <td>Knee</td>\n",
       "      <td>Synthetic</td>\n",
       "      <td>1</td>\n",
       "      <td>1</td>\n",
       "      <td>0</td>\n",
       "      <td>0</td>\n",
       "    </tr>\n",
       "  </tbody>\n",
       "</table>\n",
       "<p>105 rows × 9 columns</p>\n",
       "</div>"
      ],
      "text/plain": [
       "     PlayerKey    GameID     PlayKey BodyPart    Surface  DM_M1  DM_M7  \\\n",
       "0        39873   39873-4  39873-4-32     Knee  Synthetic      1      1   \n",
       "1        46074   46074-7  46074-7-26     Knee    Natural      1      1   \n",
       "2        36557   36557-1  36557-1-70    Ankle  Synthetic      1      1   \n",
       "3        46646   46646-3  46646-3-30    Ankle    Natural      1      0   \n",
       "4        43532   43532-5  43532-5-69    Ankle  Synthetic      1      1   \n",
       "..         ...       ...         ...      ...        ...    ...    ...   \n",
       "100      44423  44423-13         NaN     Knee  Synthetic      1      0   \n",
       "101      31933  31933-20         NaN     Knee  Synthetic      1      0   \n",
       "102      47285   47285-4         NaN     Knee    Natural      1      1   \n",
       "103      37068  37068-19         NaN     Knee    Natural      1      1   \n",
       "104      36696  36696-24         NaN     Knee  Synthetic      1      1   \n",
       "\n",
       "     DM_M28  DM_M42  \n",
       "0         1       1  \n",
       "1         0       0  \n",
       "2         1       1  \n",
       "3         0       0  \n",
       "4         1       1  \n",
       "..      ...     ...  \n",
       "100       0       0  \n",
       "101       0       0  \n",
       "102       0       0  \n",
       "103       0       0  \n",
       "104       0       0  \n",
       "\n",
       "[105 rows x 9 columns]"
      ]
     },
     "execution_count": 23,
     "metadata": {},
     "output_type": "execute_result"
    }
   ],
   "source": [
    "InjuryRecord"
   ]
  },
  {
   "cell_type": "code",
   "execution_count": 24,
   "metadata": {},
   "outputs": [
    {
     "data": {
      "text/plain": [
       "<seaborn.axisgrid.FacetGrid at 0x1c76d069608>"
      ]
     },
     "execution_count": 24,
     "metadata": {},
     "output_type": "execute_result"
    },
    {
     "data": {
      "image/png": "[encoded data removed]",
      "text/plain": [
       "<Figure size 604.8x432 with 2 Axes>"
      ]
     },
     "metadata": {
      "needs_background": "light"
     },
     "output_type": "display_data"
    }
   ],
   "source": [
    "sns.catplot(x='BodyPart', col='Surface', data=InjuryRecord, kind='count',\n",
    "                height=6, palette='Blues', aspect=.7)"
   ]
  },
  {
   "cell_type": "code",
   "execution_count": 25,
   "metadata": {},
   "outputs": [
    {
     "data": {
      "text/html": [
       "<div>\n",
       "<style scoped>\n",
       "    .dataframe tbody tr th:only-of-type {\n",
       "        vertical-align: middle;\n",
       "    }\n",
       "\n",
       "    .dataframe tbody tr th {\n",
       "        vertical-align: top;\n",
       "    }\n",
       "\n",
       "    .dataframe thead th {\n",
       "        text-align: right;\n",
       "    }\n",
       "</style>\n",
       "<table border=\"1\" class=\"dataframe\">\n",
       "  <thead>\n",
       "    <tr style=\"text-align: right;\">\n",
       "      <th></th>\n",
       "      <th>DM_M1</th>\n",
       "      <th>DM_M7</th>\n",
       "      <th>DM_M28</th>\n",
       "      <th>DM_M42</th>\n",
       "    </tr>\n",
       "    <tr>\n",
       "      <th>BodyPart</th>\n",
       "      <th></th>\n",
       "      <th></th>\n",
       "      <th></th>\n",
       "      <th></th>\n",
       "    </tr>\n",
       "  </thead>\n",
       "  <tbody>\n",
       "    <tr>\n",
       "      <th>Ankle</th>\n",
       "      <td>42</td>\n",
       "      <td>26</td>\n",
       "      <td>13</td>\n",
       "      <td>11</td>\n",
       "    </tr>\n",
       "    <tr>\n",
       "      <th>Foot</th>\n",
       "      <td>7</td>\n",
       "      <td>7</td>\n",
       "      <td>7</td>\n",
       "      <td>5</td>\n",
       "    </tr>\n",
       "    <tr>\n",
       "      <th>Heel</th>\n",
       "      <td>1</td>\n",
       "      <td>1</td>\n",
       "      <td>0</td>\n",
       "      <td>0</td>\n",
       "    </tr>\n",
       "    <tr>\n",
       "      <th>Knee</th>\n",
       "      <td>48</td>\n",
       "      <td>37</td>\n",
       "      <td>16</td>\n",
       "      <td>13</td>\n",
       "    </tr>\n",
       "    <tr>\n",
       "      <th>Toes</th>\n",
       "      <td>7</td>\n",
       "      <td>5</td>\n",
       "      <td>1</td>\n",
       "      <td>0</td>\n",
       "    </tr>\n",
       "  </tbody>\n",
       "</table>\n",
       "</div>"
      ],
      "text/plain": [
       "          DM_M1  DM_M7  DM_M28  DM_M42\n",
       "BodyPart                              \n",
       "Ankle        42     26      13      11\n",
       "Foot          7      7       7       5\n",
       "Heel          1      1       0       0\n",
       "Knee         48     37      16      13\n",
       "Toes          7      5       1       0"
      ]
     },
     "execution_count": 25,
     "metadata": {},
     "output_type": "execute_result"
    }
   ],
   "source": [
    "# InjuryRecord.loc.groupby('BodyPart').sum()\n",
    "InjuryRecord[['BodyPart','DM_M1','DM_M7','DM_M28','DM_M42']].groupby('BodyPart').sum()"
   ]
  },
  {
   "cell_type": "code",
   "execution_count": 26,
   "metadata": {},
   "outputs": [
    {
     "data": {
      "text/html": [
       "<div>\n",
       "<style scoped>\n",
       "    .dataframe tbody tr th:only-of-type {\n",
       "        vertical-align: middle;\n",
       "    }\n",
       "\n",
       "    .dataframe tbody tr th {\n",
       "        vertical-align: top;\n",
       "    }\n",
       "\n",
       "    .dataframe thead th {\n",
       "        text-align: right;\n",
       "    }\n",
       "</style>\n",
       "<table border=\"1\" class=\"dataframe\">\n",
       "  <thead>\n",
       "    <tr style=\"text-align: right;\">\n",
       "      <th></th>\n",
       "      <th>Surface</th>\n",
       "      <th>BodyPart</th>\n",
       "      <th>DM_M1</th>\n",
       "      <th>DM_M7</th>\n",
       "      <th>DM_M28</th>\n",
       "      <th>DM_M42</th>\n",
       "    </tr>\n",
       "  </thead>\n",
       "  <tbody>\n",
       "    <tr>\n",
       "      <th>0</th>\n",
       "      <td>Natural</td>\n",
       "      <td>Ankle</td>\n",
       "      <td>17</td>\n",
       "      <td>9</td>\n",
       "      <td>3</td>\n",
       "      <td>3</td>\n",
       "    </tr>\n",
       "    <tr>\n",
       "      <th>1</th>\n",
       "      <td>Natural</td>\n",
       "      <td>Foot</td>\n",
       "      <td>5</td>\n",
       "      <td>5</td>\n",
       "      <td>5</td>\n",
       "      <td>4</td>\n",
       "    </tr>\n",
       "    <tr>\n",
       "      <th>2</th>\n",
       "      <td>Natural</td>\n",
       "      <td>Heel</td>\n",
       "      <td>1</td>\n",
       "      <td>1</td>\n",
       "      <td>0</td>\n",
       "      <td>0</td>\n",
       "    </tr>\n",
       "    <tr>\n",
       "      <th>3</th>\n",
       "      <td>Natural</td>\n",
       "      <td>Knee</td>\n",
       "      <td>24</td>\n",
       "      <td>19</td>\n",
       "      <td>7</td>\n",
       "      <td>6</td>\n",
       "    </tr>\n",
       "    <tr>\n",
       "      <th>4</th>\n",
       "      <td>Natural</td>\n",
       "      <td>Toes</td>\n",
       "      <td>1</td>\n",
       "      <td>1</td>\n",
       "      <td>0</td>\n",
       "      <td>0</td>\n",
       "    </tr>\n",
       "    <tr>\n",
       "      <th>5</th>\n",
       "      <td>Synthetic</td>\n",
       "      <td>Ankle</td>\n",
       "      <td>25</td>\n",
       "      <td>17</td>\n",
       "      <td>10</td>\n",
       "      <td>8</td>\n",
       "    </tr>\n",
       "    <tr>\n",
       "      <th>6</th>\n",
       "      <td>Synthetic</td>\n",
       "      <td>Foot</td>\n",
       "      <td>2</td>\n",
       "      <td>2</td>\n",
       "      <td>2</td>\n",
       "      <td>1</td>\n",
       "    </tr>\n",
       "    <tr>\n",
       "      <th>7</th>\n",
       "      <td>Synthetic</td>\n",
       "      <td>Knee</td>\n",
       "      <td>24</td>\n",
       "      <td>18</td>\n",
       "      <td>9</td>\n",
       "      <td>7</td>\n",
       "    </tr>\n",
       "    <tr>\n",
       "      <th>8</th>\n",
       "      <td>Synthetic</td>\n",
       "      <td>Toes</td>\n",
       "      <td>6</td>\n",
       "      <td>4</td>\n",
       "      <td>1</td>\n",
       "      <td>0</td>\n",
       "    </tr>\n",
       "  </tbody>\n",
       "</table>\n",
       "</div>"
      ],
      "text/plain": [
       "     Surface BodyPart  DM_M1  DM_M7  DM_M28  DM_M42\n",
       "0    Natural    Ankle     17      9       3       3\n",
       "1    Natural     Foot      5      5       5       4\n",
       "2    Natural     Heel      1      1       0       0\n",
       "3    Natural     Knee     24     19       7       6\n",
       "4    Natural     Toes      1      1       0       0\n",
       "5  Synthetic    Ankle     25     17      10       8\n",
       "6  Synthetic     Foot      2      2       2       1\n",
       "7  Synthetic     Knee     24     18       9       7\n",
       "8  Synthetic     Toes      6      4       1       0"
      ]
     },
     "execution_count": 26,
     "metadata": {},
     "output_type": "execute_result"
    }
   ],
   "source": [
    "Inj_Surf_BodyPart = InjuryRecord.groupby(['Surface','BodyPart'])['DM_M1','DM_M7','DM_M28','DM_M42'].sum().reset_index()\n",
    "Inj_Surf_BodyPart"
   ]
  },
  {
   "cell_type": "code",
   "execution_count": 27,
   "metadata": {},
   "outputs": [
    {
     "data": {
      "text/plain": [
       "<seaborn.axisgrid.FacetGrid at 0x1c7624ba808>"
      ]
     },
     "execution_count": 27,
     "metadata": {},
     "output_type": "execute_result"
    },
    {
     "data": {
      "image/png": "[encoded data removed]",
      "text/plain": [
       "<Figure size 889.525x288 with 4 Axes>"
      ]
     },
     "metadata": {
      "needs_background": "light"
     },
     "output_type": "display_data"
    }
   ],
   "source": [
    "Inj_Surf_BodyPart_New = pd.melt(Inj_Surf_BodyPart, id_vars=['Surface','BodyPart'], value_vars=['DM_M1','DM_M7','DM_M28','DM_M42'])\n",
    "\n",
    "sns.catplot(x='BodyPart', y='value', hue='Surface', col='variable',\n",
    "            data=Inj_Surf_BodyPart_New, kind='bar', height=4, aspect=.7, palette='Blues')"
   ]
  },
  {
   "cell_type": "code",
   "execution_count": 28,
   "metadata": {},
   "outputs": [],
   "source": [
    "Relations_table = pd.merge(PlayList, InjuryRecord, how='left', on='PlayerKey')"
   ]
  },
  {
   "cell_type": "code",
   "execution_count": 29,
   "metadata": {},
   "outputs": [],
   "source": [
    "col = ['PlayerKey', 'RosterPosition', 'PlayerDay', 'FieldType', 'Temperature', 'PlayType', 'Position', 'PositionGroup',\n",
    "       'StadiumType_cl', 'BodyPart', 'Surface', 'DM_M1', 'DM_M7', 'DM_M28', 'DM_M42']\n",
    "\n",
    "Relations_table = Relations_table[col].copy()"
   ]
  },
  {
   "cell_type": "code",
   "execution_count": 30,
   "metadata": {},
   "outputs": [
    {
     "name": "stdout",
     "output_type": "stream",
     "text": [
      "<class 'pandas.core.frame.DataFrame'>\n",
      "Int64Index: 273337 entries, 0 to 273336\n",
      "Data columns (total 15 columns):\n",
      "PlayerKey         273337 non-null int64\n",
      "RosterPosition    273337 non-null object\n",
      "PlayerDay         273337 non-null int64\n",
      "FieldType         273337 non-null object\n",
      "Temperature       273337 non-null int64\n",
      "PlayType          272959 non-null object\n",
      "Position          273337 non-null object\n",
      "PositionGroup     273337 non-null object\n",
      "StadiumType_cl    273337 non-null object\n",
      "BodyPart          96081 non-null object\n",
      "Surface           96081 non-null object\n",
      "DM_M1             96081 non-null float64\n",
      "DM_M7             96081 non-null float64\n",
      "DM_M28            96081 non-null float64\n",
      "DM_M42            96081 non-null float64\n",
      "dtypes: float64(4), int64(3), object(8)\n",
      "memory usage: 33.4+ MB\n"
     ]
    }
   ],
   "source": [
    "Relations_table.info()"
   ]
  },
  {
   "cell_type": "code",
   "execution_count": 31,
   "metadata": {},
   "outputs": [
    {
     "data": {
      "text/plain": [
       "<matplotlib.axes._subplots.AxesSubplot at 0x1c762e17a08>"
      ]
     },
     "execution_count": 31,
     "metadata": {},
     "output_type": "execute_result"
    },
    {
     "data": {
      "image/png": "[encoded data removed]",
      "text/plain": [
       "<Figure size 432x288 with 1 Axes>"
      ]
     },
     "metadata": {
      "needs_background": "light"
     },
     "output_type": "display_data"
    }
   ],
   "source": [
    "sns.heatmap(Relations_table.isnull(), cbar=False)"
   ]
  },
  {
   "cell_type": "code",
   "execution_count": 32,
   "metadata": {},
   "outputs": [],
   "source": [
    "Relations_table.dropna(inplace=True)"
   ]
  },
  {
   "cell_type": "code",
   "execution_count": 33,
   "metadata": {},
   "outputs": [
    {
     "name": "stdout",
     "output_type": "stream",
     "text": [
      "<class 'pandas.core.frame.DataFrame'>\n",
      "Int64Index: 95963 entries, 7162 to 272708\n",
      "Data columns (total 15 columns):\n",
      "PlayerKey         95963 non-null int64\n",
      "RosterPosition    95963 non-null object\n",
      "PlayerDay         95963 non-null int64\n",
      "FieldType         95963 non-null object\n",
      "Temperature       95963 non-null int64\n",
      "PlayType          95963 non-null object\n",
      "Position          95963 non-null object\n",
      "PositionGroup     95963 non-null object\n",
      "StadiumType_cl    95963 non-null object\n",
      "BodyPart          95963 non-null object\n",
      "Surface           95963 non-null object\n",
      "DM_M1             95963 non-null float64\n",
      "DM_M7             95963 non-null float64\n",
      "DM_M28            95963 non-null float64\n",
      "DM_M42            95963 non-null float64\n",
      "dtypes: float64(4), int64(3), object(8)\n",
      "memory usage: 11.7+ MB\n"
     ]
    }
   ],
   "source": [
    "Relations_table.info()"
   ]
  },
  {
   "cell_type": "code",
   "execution_count": 34,
   "metadata": {},
   "outputs": [
    {
     "data": {
      "text/html": [
       "<div>\n",
       "<style scoped>\n",
       "    .dataframe tbody tr th:only-of-type {\n",
       "        vertical-align: middle;\n",
       "    }\n",
       "\n",
       "    .dataframe tbody tr th {\n",
       "        vertical-align: top;\n",
       "    }\n",
       "\n",
       "    .dataframe thead th {\n",
       "        text-align: right;\n",
       "    }\n",
       "</style>\n",
       "<table border=\"1\" class=\"dataframe\">\n",
       "  <thead>\n",
       "    <tr style=\"text-align: right;\">\n",
       "      <th></th>\n",
       "      <th>PlayerKey</th>\n",
       "      <th>RosterPosition</th>\n",
       "      <th>PlayerDay</th>\n",
       "      <th>FieldType</th>\n",
       "      <th>Temperature</th>\n",
       "      <th>PlayType</th>\n",
       "      <th>Position</th>\n",
       "      <th>PositionGroup</th>\n",
       "      <th>StadiumType_cl</th>\n",
       "      <th>BodyPart</th>\n",
       "      <th>Surface</th>\n",
       "      <th>DM_M1</th>\n",
       "      <th>DM_M7</th>\n",
       "      <th>DM_M28</th>\n",
       "      <th>DM_M42</th>\n",
       "    </tr>\n",
       "  </thead>\n",
       "  <tbody>\n",
       "    <tr>\n",
       "      <th>7162</th>\n",
       "      <td>31070</td>\n",
       "      <td>Running Back</td>\n",
       "      <td>1</td>\n",
       "      <td>Natural</td>\n",
       "      <td>67</td>\n",
       "      <td>Punt</td>\n",
       "      <td>RB</td>\n",
       "      <td>RB</td>\n",
       "      <td>outdoor</td>\n",
       "      <td>Knee</td>\n",
       "      <td>Natural</td>\n",
       "      <td>1.0</td>\n",
       "      <td>1.0</td>\n",
       "      <td>1.0</td>\n",
       "      <td>1.0</td>\n",
       "    </tr>\n",
       "    <tr>\n",
       "      <th>7163</th>\n",
       "      <td>31070</td>\n",
       "      <td>Running Back</td>\n",
       "      <td>1</td>\n",
       "      <td>Natural</td>\n",
       "      <td>67</td>\n",
       "      <td>Pass</td>\n",
       "      <td>RB</td>\n",
       "      <td>RB</td>\n",
       "      <td>outdoor</td>\n",
       "      <td>Knee</td>\n",
       "      <td>Natural</td>\n",
       "      <td>1.0</td>\n",
       "      <td>1.0</td>\n",
       "      <td>1.0</td>\n",
       "      <td>1.0</td>\n",
       "    </tr>\n",
       "    <tr>\n",
       "      <th>7164</th>\n",
       "      <td>31070</td>\n",
       "      <td>Running Back</td>\n",
       "      <td>1</td>\n",
       "      <td>Natural</td>\n",
       "      <td>67</td>\n",
       "      <td>Pass</td>\n",
       "      <td>RB</td>\n",
       "      <td>RB</td>\n",
       "      <td>outdoor</td>\n",
       "      <td>Knee</td>\n",
       "      <td>Natural</td>\n",
       "      <td>1.0</td>\n",
       "      <td>1.0</td>\n",
       "      <td>1.0</td>\n",
       "      <td>1.0</td>\n",
       "    </tr>\n",
       "    <tr>\n",
       "      <th>7165</th>\n",
       "      <td>31070</td>\n",
       "      <td>Running Back</td>\n",
       "      <td>1</td>\n",
       "      <td>Natural</td>\n",
       "      <td>67</td>\n",
       "      <td>Pass</td>\n",
       "      <td>RB</td>\n",
       "      <td>RB</td>\n",
       "      <td>outdoor</td>\n",
       "      <td>Knee</td>\n",
       "      <td>Natural</td>\n",
       "      <td>1.0</td>\n",
       "      <td>1.0</td>\n",
       "      <td>1.0</td>\n",
       "      <td>1.0</td>\n",
       "    </tr>\n",
       "    <tr>\n",
       "      <th>7166</th>\n",
       "      <td>31070</td>\n",
       "      <td>Running Back</td>\n",
       "      <td>1</td>\n",
       "      <td>Natural</td>\n",
       "      <td>67</td>\n",
       "      <td>Pass</td>\n",
       "      <td>RB</td>\n",
       "      <td>RB</td>\n",
       "      <td>outdoor</td>\n",
       "      <td>Knee</td>\n",
       "      <td>Natural</td>\n",
       "      <td>1.0</td>\n",
       "      <td>1.0</td>\n",
       "      <td>1.0</td>\n",
       "      <td>1.0</td>\n",
       "    </tr>\n",
       "    <tr>\n",
       "      <th>...</th>\n",
       "      <td>...</td>\n",
       "      <td>...</td>\n",
       "      <td>...</td>\n",
       "      <td>...</td>\n",
       "      <td>...</td>\n",
       "      <td>...</td>\n",
       "      <td>...</td>\n",
       "      <td>...</td>\n",
       "      <td>...</td>\n",
       "      <td>...</td>\n",
       "      <td>...</td>\n",
       "      <td>...</td>\n",
       "      <td>...</td>\n",
       "      <td>...</td>\n",
       "      <td>...</td>\n",
       "    </tr>\n",
       "    <tr>\n",
       "      <th>272704</th>\n",
       "      <td>47813</td>\n",
       "      <td>Cornerback</td>\n",
       "      <td>113</td>\n",
       "      <td>Synthetic</td>\n",
       "      <td>46</td>\n",
       "      <td>Pass</td>\n",
       "      <td>CB</td>\n",
       "      <td>DB</td>\n",
       "      <td>indoor_closed</td>\n",
       "      <td>Ankle</td>\n",
       "      <td>Synthetic</td>\n",
       "      <td>1.0</td>\n",
       "      <td>1.0</td>\n",
       "      <td>0.0</td>\n",
       "      <td>0.0</td>\n",
       "    </tr>\n",
       "    <tr>\n",
       "      <th>272705</th>\n",
       "      <td>47813</td>\n",
       "      <td>Cornerback</td>\n",
       "      <td>113</td>\n",
       "      <td>Synthetic</td>\n",
       "      <td>46</td>\n",
       "      <td>Pass</td>\n",
       "      <td>CB</td>\n",
       "      <td>DB</td>\n",
       "      <td>indoor_closed</td>\n",
       "      <td>Ankle</td>\n",
       "      <td>Synthetic</td>\n",
       "      <td>1.0</td>\n",
       "      <td>1.0</td>\n",
       "      <td>0.0</td>\n",
       "      <td>0.0</td>\n",
       "    </tr>\n",
       "    <tr>\n",
       "      <th>272706</th>\n",
       "      <td>47813</td>\n",
       "      <td>Cornerback</td>\n",
       "      <td>113</td>\n",
       "      <td>Synthetic</td>\n",
       "      <td>46</td>\n",
       "      <td>Rush</td>\n",
       "      <td>CB</td>\n",
       "      <td>DB</td>\n",
       "      <td>indoor_closed</td>\n",
       "      <td>Ankle</td>\n",
       "      <td>Synthetic</td>\n",
       "      <td>1.0</td>\n",
       "      <td>1.0</td>\n",
       "      <td>0.0</td>\n",
       "      <td>0.0</td>\n",
       "    </tr>\n",
       "    <tr>\n",
       "      <th>272707</th>\n",
       "      <td>47813</td>\n",
       "      <td>Cornerback</td>\n",
       "      <td>113</td>\n",
       "      <td>Synthetic</td>\n",
       "      <td>46</td>\n",
       "      <td>Rush</td>\n",
       "      <td>CB</td>\n",
       "      <td>DB</td>\n",
       "      <td>indoor_closed</td>\n",
       "      <td>Ankle</td>\n",
       "      <td>Synthetic</td>\n",
       "      <td>1.0</td>\n",
       "      <td>1.0</td>\n",
       "      <td>0.0</td>\n",
       "      <td>0.0</td>\n",
       "    </tr>\n",
       "    <tr>\n",
       "      <th>272708</th>\n",
       "      <td>47813</td>\n",
       "      <td>Cornerback</td>\n",
       "      <td>113</td>\n",
       "      <td>Synthetic</td>\n",
       "      <td>46</td>\n",
       "      <td>Rush</td>\n",
       "      <td>CB</td>\n",
       "      <td>DB</td>\n",
       "      <td>indoor_closed</td>\n",
       "      <td>Ankle</td>\n",
       "      <td>Synthetic</td>\n",
       "      <td>1.0</td>\n",
       "      <td>1.0</td>\n",
       "      <td>0.0</td>\n",
       "      <td>0.0</td>\n",
       "    </tr>\n",
       "  </tbody>\n",
       "</table>\n",
       "<p>95963 rows × 15 columns</p>\n",
       "</div>"
      ],
      "text/plain": [
       "        PlayerKey RosterPosition  PlayerDay  FieldType  Temperature PlayType  \\\n",
       "7162        31070   Running Back          1    Natural           67     Punt   \n",
       "7163        31070   Running Back          1    Natural           67     Pass   \n",
       "7164        31070   Running Back          1    Natural           67     Pass   \n",
       "7165        31070   Running Back          1    Natural           67     Pass   \n",
       "7166        31070   Running Back          1    Natural           67     Pass   \n",
       "...           ...            ...        ...        ...          ...      ...   \n",
       "272704      47813     Cornerback        113  Synthetic           46     Pass   \n",
       "272705      47813     Cornerback        113  Synthetic           46     Pass   \n",
       "272706      47813     Cornerback        113  Synthetic           46     Rush   \n",
       "272707      47813     Cornerback        113  Synthetic           46     Rush   \n",
       "272708      47813     Cornerback        113  Synthetic           46     Rush   \n",
       "\n",
       "       Position PositionGroup StadiumType_cl BodyPart    Surface  DM_M1  \\\n",
       "7162         RB            RB        outdoor     Knee    Natural    1.0   \n",
       "7163         RB            RB        outdoor     Knee    Natural    1.0   \n",
       "7164         RB            RB        outdoor     Knee    Natural    1.0   \n",
       "7165         RB            RB        outdoor     Knee    Natural    1.0   \n",
       "7166         RB            RB        outdoor     Knee    Natural    1.0   \n",
       "...         ...           ...            ...      ...        ...    ...   \n",
       "272704       CB            DB  indoor_closed    Ankle  Synthetic    1.0   \n",
       "272705       CB            DB  indoor_closed    Ankle  Synthetic    1.0   \n",
       "272706       CB            DB  indoor_closed    Ankle  Synthetic    1.0   \n",
       "272707       CB            DB  indoor_closed    Ankle  Synthetic    1.0   \n",
       "272708       CB            DB  indoor_closed    Ankle  Synthetic    1.0   \n",
       "\n",
       "        DM_M7  DM_M28  DM_M42  \n",
       "7162      1.0     1.0     1.0  \n",
       "7163      1.0     1.0     1.0  \n",
       "7164      1.0     1.0     1.0  \n",
       "7165      1.0     1.0     1.0  \n",
       "7166      1.0     1.0     1.0  \n",
       "...       ...     ...     ...  \n",
       "272704    1.0     0.0     0.0  \n",
       "272705    1.0     0.0     0.0  \n",
       "272706    1.0     0.0     0.0  \n",
       "272707    1.0     0.0     0.0  \n",
       "272708    1.0     0.0     0.0  \n",
       "\n",
       "[95963 rows x 15 columns]"
      ]
     },
     "execution_count": 34,
     "metadata": {},
     "output_type": "execute_result"
    }
   ],
   "source": [
    "Relations_table"
   ]
  },
  {
   "cell_type": "code",
   "execution_count": 35,
   "metadata": {},
   "outputs": [
    {
     "data": {
      "text/plain": [
       "Text(0.5, 1.0, 'Compare PlayType per Surface')"
      ]
     },
     "execution_count": 35,
     "metadata": {},
     "output_type": "execute_result"
    },
    {
     "data": {
      "image/png": "[encoded data removed]",
      "text/plain": [
       "<Figure size 1152x576 with 1 Axes>"
      ]
     },
     "metadata": {
      "needs_background": "light"
     },
     "output_type": "display_data"
    }
   ],
   "source": [
    "plt.figure(figsize=(16,8))\n",
    "g = sns.countplot(y=\"PlayType\", hue=\"Surface\", \n",
    "                  order=Relations_table['PlayType'].value_counts().index, \n",
    "                  data=Relations_table, palette='Blues')\n",
    "plt.title(\"Compare PlayType per Surface\", fontsize=20)"
   ]
  },
  {
   "cell_type": "code",
   "execution_count": 36,
   "metadata": {},
   "outputs": [
    {
     "data": {
      "image/png": "[encoded data removed]",
      "text/plain": [
       "<Figure size 540x540 with 5 Axes>"
      ]
     },
     "metadata": {
      "needs_background": "light"
     },
     "output_type": "display_data"
    }
   ],
   "source": [
    "sns.catplot(x=\"Temperature\", y=\"Surface\", row=\"BodyPart\",\n",
    "                kind=\"box\", orient=\"h\", height=1.5, aspect=5,\n",
    "                data=Relations_table.query(\"Temperature > 0\"), palette='Blues');"
   ]
  },
  {
   "cell_type": "code",
   "execution_count": 37,
   "metadata": {},
   "outputs": [
    {
     "data": {
      "image/png": "[encoded data removed]",
      "text/plain": [
       "<Figure size 540x1188 with 11 Axes>"
      ]
     },
     "metadata": {
      "needs_background": "light"
     },
     "output_type": "display_data"
    }
   ],
   "source": [
    "sns.catplot(x=\"Temperature\", y=\"Surface\", row=\"PlayType\",\n",
    "                kind=\"box\", orient=\"h\", height=1.5, aspect=5,\n",
    "                data=Relations_table.query(\"Temperature > 0\"), palette='Blues');"
   ]
  },
  {
   "cell_type": "code",
   "execution_count": 38,
   "metadata": {},
   "outputs": [
    {
     "data": {
      "text/plain": [
       "Text(0.5, 1.0, 'Injuries: Position per Surface')"
      ]
     },
     "execution_count": 38,
     "metadata": {},
     "output_type": "execute_result"
    },
    {
     "data": {
      "image/png": "[encoded data removed]",
      "text/plain": [
       "<Figure size 1152x576 with 1 Axes>"
      ]
     },
     "metadata": {
      "needs_background": "light"
     },
     "output_type": "display_data"
    }
   ],
   "source": [
    "plt.figure(figsize=(16,8))\n",
    "g = sns.countplot(y=\"Position\", hue=\"Surface\", \n",
    "                  order=Relations_table['Position'].value_counts().index, \n",
    "                  data=Relations_table, palette='Blues')\n",
    "plt.title(\"Injuries: Position per Surface\", fontsize=20)"
   ]
  }
 ],
 "metadata": {
  "kernelspec": {
   "display_name": "Python 3",
   "language": "python",
   "name": "python3"
  },
  "language_info": {
   "codemirror_mode": {
    "name": "ipython",
    "version": 3
   },
   "file_extension": ".py",
   "mimetype": "text/x-python",
   "name": "python",
   "nbconvert_exporter": "python",
   "pygments_lexer": "ipython3",
   "version": "3.7.5"
  }
 },
 "nbformat": 4,
 "nbformat_minor": 2
}
